{
 "cells": [
  {
   "cell_type": "markdown",
   "id": "1d0d4e24",
   "metadata": {},
   "source": [
    "Importing necessary library"
   ]
  },
  {
   "cell_type": "code",
   "execution_count": 2,
   "id": "fb0f1ccf",
   "metadata": {},
   "outputs": [],
   "source": [
    "import numpy as np\n",
    "import pandas as pd\n",
    "import matplotlib.pyplot as plt\n",
    "import seaborn as sns\n",
    "from sklearn.preprocessing import MinMaxScaler\n",
    "from sklearn.preprocessing import StandardScaler, OneHotEncoder\n",
    "from sklearn.cluster import KMeans\n",
    "from sklearn.compose import ColumnTransformer\n",
    "import matplotlib.pyplot as plt\n",
    "from statsmodels.tsa.arima.model import ARIMA\n",
    "from statsmodels.tsa.arima.model import ARIMA\n",
    "from sklearn.metrics import mean_squared_error\n",
    "from math import sqrt\n",
    "\n",
    "\n"
   ]
  },
  {
   "cell_type": "markdown",
   "id": "37cadd0b",
   "metadata": {},
   "source": [
    "# Load the dataset"
   ]
  },
  {
   "cell_type": "code",
   "execution_count": 3,
   "id": "131c1d65",
   "metadata": {},
   "outputs": [],
   "source": [
    "\n",
    "file_path = 'Youth_Tobacco.csv'\n",
    "yts_data = pd.read_csv(file_path)"
   ]
  },
  {
   "cell_type": "markdown",
   "id": "9a96118f",
   "metadata": {},
   "source": [
    "# Display the first few rows of the dataset"
   ]
  },
  {
   "cell_type": "code",
   "execution_count": 4,
   "id": "0d533f8a",
   "metadata": {},
   "outputs": [
    {
     "name": "stdout",
     "output_type": "stream",
     "text": [
      "First few rows of the dataset:\n",
      "   YEAR LocationAbbr   LocationDesc                  TopicType  \\\n",
      "0  2004           OH           Ohio  Tobacco Use – Survey Data   \n",
      "1  2008           AL        Alabama  Tobacco Use – Survey Data   \n",
      "2  2015           WV  West Virginia  Tobacco Use – Survey Data   \n",
      "3  2005           IL       Illinois  Tobacco Use – Survey Data   \n",
      "4  2005           CT    Connecticut  Tobacco Use – Survey Data   \n",
      "\n",
      "                       TopicDesc     MeasureDesc DataSource  Response  \\\n",
      "0          Cigarette Use (Youth)  Smoking Status        YTS      Ever   \n",
      "1          Cigarette Use (Youth)  Smoking Status        YTS      Ever   \n",
      "2  Smokeless Tobacco Use (Youth)     User Status        YTS  Frequent   \n",
      "3          Cigarette Use (Youth)  Smoking Status        YTS      Ever   \n",
      "4  Smokeless Tobacco Use (Youth)     User Status        YTS      Ever   \n",
      "\n",
      "  Data_Value_Unit Data_Value_Type  ...                    GeoLocation  \\\n",
      "0               %      Percentage  ...  (40.060210141, -82.404260056)   \n",
      "1               %      Percentage  ...  (32.840571122, -86.631860762)   \n",
      "2               %      Percentage  ...  (38.665510202, -80.712640135)   \n",
      "3               %      Percentage  ...  (40.485010283, -88.997710178)   \n",
      "4               %      Percentage  ...   (41.56266102, -72.649840952)   \n",
      "\n",
      "  TopicTypeId TopicId  MeasureId  StratificationID1  StratificationID2  \\\n",
      "0         BEH  106BEH     166SSA               1GEN               8AGE   \n",
      "1         BEH  106BEH     166SSA               3GEN               8AGE   \n",
      "2         BEH  151BEH     169USS               2GEN               8AGE   \n",
      "3         BEH  106BEH     166SSA               1GEN               8AGE   \n",
      "4         BEH  151BEH     169USS               2GEN               8AGE   \n",
      "\n",
      "   StratificationID3 StratificationID4 SubMeasureID DisplayOrder  \n",
      "0               6RAC              1EDU        YTS08            8  \n",
      "1               6RAC              2EDU        YTS08            8  \n",
      "2               6RAC              2EDU        YTS12           12  \n",
      "3               6RAC              1EDU        YTS08            8  \n",
      "4               6RAC              2EDU        YTS11           11  \n",
      "\n",
      "[5 rows x 31 columns]\n"
     ]
    }
   ],
   "source": [
    "print(\"First few rows of the dataset:\")\n",
    "print(yts_data.head())"
   ]
  },
  {
   "cell_type": "markdown",
   "id": "295b873d",
   "metadata": {},
   "source": [
    "checking shape"
   ]
  },
  {
   "cell_type": "code",
   "execution_count": 5,
   "id": "dd42d507",
   "metadata": {},
   "outputs": [
    {
     "data": {
      "text/plain": [
       "(10600, 31)"
      ]
     },
     "execution_count": 5,
     "metadata": {},
     "output_type": "execute_result"
    }
   ],
   "source": [
    "\n",
    "yts_data.shape"
   ]
  },
  {
   "cell_type": "markdown",
   "id": "7ff5862a",
   "metadata": {},
   "source": [
    "# Check for missing values"
   ]
  },
  {
   "cell_type": "code",
   "execution_count": 6,
   "id": "69ee94a7",
   "metadata": {},
   "outputs": [
    {
     "data": {
      "text/plain": [
       "YEAR                              0\n",
       "LocationAbbr                      0\n",
       "LocationDesc                      0\n",
       "TopicType                         0\n",
       "TopicDesc                         0\n",
       "MeasureDesc                       0\n",
       "DataSource                        0\n",
       "Response                       2410\n",
       "Data_Value_Unit                   0\n",
       "Data_Value_Type                   0\n",
       "Data_Value                      520\n",
       "Data_Value_Footnote_Symbol    10083\n",
       "Data_Value_Footnote           10083\n",
       "Data_Value_Std_Err              520\n",
       "Low_Confidence_Limit            517\n",
       "High_Confidence_Limit           520\n",
       "Sample_Size                     520\n",
       "Gender                            0\n",
       "Race                              0\n",
       "Age                               0\n",
       "Education                         0\n",
       "GeoLocation                       4\n",
       "TopicTypeId                       0\n",
       "TopicId                           0\n",
       "MeasureId                         0\n",
       "StratificationID1                 0\n",
       "StratificationID2                 0\n",
       "StratificationID3                 0\n",
       "StratificationID4                 0\n",
       "SubMeasureID                      0\n",
       "DisplayOrder                      0\n",
       "dtype: int64"
      ]
     },
     "execution_count": 6,
     "metadata": {},
     "output_type": "execute_result"
    }
   ],
   "source": [
    "\n",
    "missing_values = yts_data.isnull().sum()\n",
    "missing_values\n"
   ]
  },
  {
   "cell_type": "markdown",
   "id": "8cae6ae2",
   "metadata": {},
   "source": [
    "# Columns to check for missing values"
   ]
  },
  {
   "cell_type": "code",
   "execution_count": 7,
   "id": "5128e107",
   "metadata": {},
   "outputs": [],
   "source": [
    "\n",
    "columns_to_clean = ['GeoLocation', 'Data_Value', 'Data_Value_Std_Err', 'Low_Confidence_Limit', 'High_Confidence_Limit', 'Sample_Size']\n",
    "\n",
    "# Remove rows   have missing values\n",
    "yts_data = yts_data.dropna(subset=columns_to_clean)"
   ]
  },
  {
   "cell_type": "markdown",
   "id": "3f4d9ad7",
   "metadata": {},
   "source": [
    "\n",
    "# Verify the cleaning by checking the shape or the sum of missing values"
   ]
  },
  {
   "cell_type": "code",
   "execution_count": 8,
   "id": "eba3ecee",
   "metadata": {},
   "outputs": [
    {
     "name": "stdout",
     "output_type": "stream",
     "text": [
      "(10076, 31)\n",
      "YEAR                              0\n",
      "LocationAbbr                      0\n",
      "LocationDesc                      0\n",
      "TopicType                         0\n",
      "TopicDesc                         0\n",
      "MeasureDesc                       0\n",
      "DataSource                        0\n",
      "Response                       1889\n",
      "Data_Value_Unit                   0\n",
      "Data_Value_Type                   0\n",
      "Data_Value                        0\n",
      "Data_Value_Footnote_Symbol    10076\n",
      "Data_Value_Footnote           10076\n",
      "Data_Value_Std_Err                0\n",
      "Low_Confidence_Limit              0\n",
      "High_Confidence_Limit             0\n",
      "Sample_Size                       0\n",
      "Gender                            0\n",
      "Race                              0\n",
      "Age                               0\n",
      "Education                         0\n",
      "GeoLocation                       0\n",
      "TopicTypeId                       0\n",
      "TopicId                           0\n",
      "MeasureId                         0\n",
      "StratificationID1                 0\n",
      "StratificationID2                 0\n",
      "StratificationID3                 0\n",
      "StratificationID4                 0\n",
      "SubMeasureID                      0\n",
      "DisplayOrder                      0\n",
      "dtype: int64\n"
     ]
    }
   ],
   "source": [
    "\n",
    "\n",
    "print(yts_data.shape)\n",
    "print(yts_data.isnull().sum())\n"
   ]
  },
  {
   "cell_type": "markdown",
   "id": "7de7d7cf",
   "metadata": {},
   "source": [
    "dropping those two empty features"
   ]
  },
  {
   "cell_type": "code",
   "execution_count": 9,
   "id": "ab7c7efd",
   "metadata": {},
   "outputs": [],
   "source": [
    "yts_data = yts_data.drop(columns=['Data_Value_Footnote_Symbol', 'Data_Value_Footnote'])"
   ]
  },
  {
   "cell_type": "markdown",
   "id": "be58d1bf",
   "metadata": {},
   "source": [
    "# Verify the columns are dropped"
   ]
  },
  {
   "cell_type": "code",
   "execution_count": 10,
   "id": "7007b88b",
   "metadata": {},
   "outputs": [
    {
     "name": "stdout",
     "output_type": "stream",
     "text": [
      "Index(['YEAR', 'LocationAbbr', 'LocationDesc', 'TopicType', 'TopicDesc',\n",
      "       'MeasureDesc', 'DataSource', 'Response', 'Data_Value_Unit',\n",
      "       'Data_Value_Type', 'Data_Value', 'Data_Value_Std_Err',\n",
      "       'Low_Confidence_Limit', 'High_Confidence_Limit', 'Sample_Size',\n",
      "       'Gender', 'Race', 'Age', 'Education', 'GeoLocation', 'TopicTypeId',\n",
      "       'TopicId', 'MeasureId', 'StratificationID1', 'StratificationID2',\n",
      "       'StratificationID3', 'StratificationID4', 'SubMeasureID',\n",
      "       'DisplayOrder'],\n",
      "      dtype='object')\n"
     ]
    }
   ],
   "source": [
    "print(yts_data.columns)"
   ]
  },
  {
   "cell_type": "markdown",
   "id": "6288382f",
   "metadata": {},
   "source": [
    "# Check for missing values"
   ]
  },
  {
   "cell_type": "code",
   "execution_count": 11,
   "id": "f42099b5",
   "metadata": {},
   "outputs": [
    {
     "data": {
      "text/plain": [
       "YEAR                        0\n",
       "LocationAbbr                0\n",
       "LocationDesc                0\n",
       "TopicType                   0\n",
       "TopicDesc                   0\n",
       "MeasureDesc                 0\n",
       "DataSource                  0\n",
       "Response                 1889\n",
       "Data_Value_Unit             0\n",
       "Data_Value_Type             0\n",
       "Data_Value                  0\n",
       "Data_Value_Std_Err          0\n",
       "Low_Confidence_Limit        0\n",
       "High_Confidence_Limit       0\n",
       "Sample_Size                 0\n",
       "Gender                      0\n",
       "Race                        0\n",
       "Age                         0\n",
       "Education                   0\n",
       "GeoLocation                 0\n",
       "TopicTypeId                 0\n",
       "TopicId                     0\n",
       "MeasureId                   0\n",
       "StratificationID1           0\n",
       "StratificationID2           0\n",
       "StratificationID3           0\n",
       "StratificationID4           0\n",
       "SubMeasureID                0\n",
       "DisplayOrder                0\n",
       "dtype: int64"
      ]
     },
     "execution_count": 11,
     "metadata": {},
     "output_type": "execute_result"
    }
   ],
   "source": [
    "missing_values = yts_data.isnull().sum()\n",
    "missing_values"
   ]
  },
  {
   "cell_type": "markdown",
   "id": "c70fe3b2",
   "metadata": {},
   "source": [
    "filling missing value as unkowns in response feature"
   ]
  },
  {
   "cell_type": "code",
   "execution_count": 12,
   "id": "ec657a95",
   "metadata": {},
   "outputs": [
    {
     "name": "stderr",
     "output_type": "stream",
     "text": [
      "/var/folders/9l/ybd9b8g910xgq507v8q5cgp00000gn/T/ipykernel_63674/29615011.py:1: FutureWarning: A value is trying to be set on a copy of a DataFrame or Series through chained assignment using an inplace method.\n",
      "The behavior will change in pandas 3.0. This inplace method will never work because the intermediate object on which we are setting values always behaves as a copy.\n",
      "\n",
      "For example, when doing 'df[col].method(value, inplace=True)', try using 'df.method({col: value}, inplace=True)' or df[col] = df[col].method(value) instead, to perform the operation inplace on the original object.\n",
      "\n",
      "\n",
      "  yts_data['Response'].fillna('Unknown', inplace=True)\n"
     ]
    }
   ],
   "source": [
    "yts_data['Response'].fillna('Unknown', inplace=True)"
   ]
  },
  {
   "cell_type": "markdown",
   "id": "7cad9a34",
   "metadata": {},
   "source": [
    "rechecking for missing values"
   ]
  },
  {
   "cell_type": "code",
   "execution_count": 13,
   "id": "c3fe838b",
   "metadata": {},
   "outputs": [
    {
     "data": {
      "text/plain": [
       "YEAR                     0\n",
       "LocationAbbr             0\n",
       "LocationDesc             0\n",
       "TopicType                0\n",
       "TopicDesc                0\n",
       "MeasureDesc              0\n",
       "DataSource               0\n",
       "Response                 0\n",
       "Data_Value_Unit          0\n",
       "Data_Value_Type          0\n",
       "Data_Value               0\n",
       "Data_Value_Std_Err       0\n",
       "Low_Confidence_Limit     0\n",
       "High_Confidence_Limit    0\n",
       "Sample_Size              0\n",
       "Gender                   0\n",
       "Race                     0\n",
       "Age                      0\n",
       "Education                0\n",
       "GeoLocation              0\n",
       "TopicTypeId              0\n",
       "TopicId                  0\n",
       "MeasureId                0\n",
       "StratificationID1        0\n",
       "StratificationID2        0\n",
       "StratificationID3        0\n",
       "StratificationID4        0\n",
       "SubMeasureID             0\n",
       "DisplayOrder             0\n",
       "dtype: int64"
      ]
     },
     "execution_count": 13,
     "metadata": {},
     "output_type": "execute_result"
    }
   ],
   "source": [
    "missing_values = yts_data.isnull().sum()\n",
    "missing_values"
   ]
  },
  {
   "cell_type": "markdown",
   "id": "335bbe3c",
   "metadata": {},
   "source": [
    "# Check for duplicate rows"
   ]
  },
  {
   "cell_type": "code",
   "execution_count": 14,
   "id": "ba9b74d9",
   "metadata": {},
   "outputs": [
    {
     "data": {
      "text/plain": [
       "0"
      ]
     },
     "execution_count": 14,
     "metadata": {},
     "output_type": "execute_result"
    }
   ],
   "source": [
    "duplicates = yts_data.duplicated().sum()\n",
    "duplicates"
   ]
  },
  {
   "cell_type": "markdown",
   "id": "c1cd8cf1",
   "metadata": {},
   "source": [
    "# Display the structure of the dataset to understand available columns for aggregation"
   ]
  },
  {
   "cell_type": "code",
   "execution_count": 15,
   "id": "b7c67574",
   "metadata": {},
   "outputs": [
    {
     "name": "stdout",
     "output_type": "stream",
     "text": [
      "<class 'pandas.core.frame.DataFrame'>\n",
      "Index: 10076 entries, 0 to 10599\n",
      "Data columns (total 29 columns):\n",
      " #   Column                 Non-Null Count  Dtype  \n",
      "---  ------                 --------------  -----  \n",
      " 0   YEAR                   10076 non-null  int64  \n",
      " 1   LocationAbbr           10076 non-null  object \n",
      " 2   LocationDesc           10076 non-null  object \n",
      " 3   TopicType              10076 non-null  object \n",
      " 4   TopicDesc              10076 non-null  object \n",
      " 5   MeasureDesc            10076 non-null  object \n",
      " 6   DataSource             10076 non-null  object \n",
      " 7   Response               10076 non-null  object \n",
      " 8   Data_Value_Unit        10076 non-null  object \n",
      " 9   Data_Value_Type        10076 non-null  object \n",
      " 10  Data_Value             10076 non-null  float64\n",
      " 11  Data_Value_Std_Err     10076 non-null  float64\n",
      " 12  Low_Confidence_Limit   10076 non-null  float64\n",
      " 13  High_Confidence_Limit  10076 non-null  float64\n",
      " 14  Sample_Size            10076 non-null  float64\n",
      " 15  Gender                 10076 non-null  object \n",
      " 16  Race                   10076 non-null  object \n",
      " 17  Age                    10076 non-null  object \n",
      " 18  Education              10076 non-null  object \n",
      " 19  GeoLocation            10076 non-null  object \n",
      " 20  TopicTypeId            10076 non-null  object \n",
      " 21  TopicId                10076 non-null  object \n",
      " 22  MeasureId              10076 non-null  object \n",
      " 23  StratificationID1      10076 non-null  object \n",
      " 24  StratificationID2      10076 non-null  object \n",
      " 25  StratificationID3      10076 non-null  object \n",
      " 26  StratificationID4      10076 non-null  object \n",
      " 27  SubMeasureID           10076 non-null  object \n",
      " 28  DisplayOrder           10076 non-null  int64  \n",
      "dtypes: float64(5), int64(2), object(22)\n",
      "memory usage: 2.3+ MB\n"
     ]
    }
   ],
   "source": [
    "yts_data.info()"
   ]
  },
  {
   "cell_type": "markdown",
   "id": "3206bab1",
   "metadata": {},
   "source": [
    "## Summary statistics for numerical columns"
   ]
  },
  {
   "cell_type": "markdown",
   "id": "62228193",
   "metadata": {},
   "source": [
    "# Display a summary to understand the numeric distribution,  for the tobacco use rate (Data_Value)"
   ]
  },
  {
   "cell_type": "code",
   "execution_count": 16,
   "id": "8c7d8478",
   "metadata": {},
   "outputs": [
    {
     "data": {
      "text/html": [
       "<div>\n",
       "<style scoped>\n",
       "    .dataframe tbody tr th:only-of-type {\n",
       "        vertical-align: middle;\n",
       "    }\n",
       "\n",
       "    .dataframe tbody tr th {\n",
       "        vertical-align: top;\n",
       "    }\n",
       "\n",
       "    .dataframe thead th {\n",
       "        text-align: right;\n",
       "    }\n",
       "</style>\n",
       "<table border=\"1\" class=\"dataframe\">\n",
       "  <thead>\n",
       "    <tr style=\"text-align: right;\">\n",
       "      <th></th>\n",
       "      <th>YEAR</th>\n",
       "      <th>Data_Value</th>\n",
       "      <th>Data_Value_Std_Err</th>\n",
       "      <th>Low_Confidence_Limit</th>\n",
       "      <th>High_Confidence_Limit</th>\n",
       "      <th>Sample_Size</th>\n",
       "      <th>DisplayOrder</th>\n",
       "    </tr>\n",
       "  </thead>\n",
       "  <tbody>\n",
       "    <tr>\n",
       "      <th>count</th>\n",
       "      <td>10076.000000</td>\n",
       "      <td>10076.000000</td>\n",
       "      <td>10076.000000</td>\n",
       "      <td>10076.000000</td>\n",
       "      <td>10076.000000</td>\n",
       "      <td>10076.000000</td>\n",
       "      <td>10076.000000</td>\n",
       "    </tr>\n",
       "    <tr>\n",
       "      <th>mean</th>\n",
       "      <td>2006.867705</td>\n",
       "      <td>20.319035</td>\n",
       "      <td>1.850973</td>\n",
       "      <td>16.703374</td>\n",
       "      <td>23.943132</td>\n",
       "      <td>1483.832572</td>\n",
       "      <td>8.343092</td>\n",
       "    </tr>\n",
       "    <tr>\n",
       "      <th>std</th>\n",
       "      <td>5.417412</td>\n",
       "      <td>21.153165</td>\n",
       "      <td>1.777582</td>\n",
       "      <td>18.559545</td>\n",
       "      <td>23.967822</td>\n",
       "      <td>2189.891960</td>\n",
       "      <td>2.945307</td>\n",
       "    </tr>\n",
       "    <tr>\n",
       "      <th>min</th>\n",
       "      <td>1999.000000</td>\n",
       "      <td>0.000000</td>\n",
       "      <td>0.000000</td>\n",
       "      <td>0.000000</td>\n",
       "      <td>0.000000</td>\n",
       "      <td>50.000000</td>\n",
       "      <td>1.000000</td>\n",
       "    </tr>\n",
       "    <tr>\n",
       "      <th>25%</th>\n",
       "      <td>2002.000000</td>\n",
       "      <td>3.000000</td>\n",
       "      <td>0.600000</td>\n",
       "      <td>1.700000</td>\n",
       "      <td>4.300000</td>\n",
       "      <td>671.000000</td>\n",
       "      <td>7.000000</td>\n",
       "    </tr>\n",
       "    <tr>\n",
       "      <th>50%</th>\n",
       "      <td>2006.000000</td>\n",
       "      <td>10.500000</td>\n",
       "      <td>1.300000</td>\n",
       "      <td>7.900000</td>\n",
       "      <td>13.200000</td>\n",
       "      <td>1001.500000</td>\n",
       "      <td>9.000000</td>\n",
       "    </tr>\n",
       "    <tr>\n",
       "      <th>75%</th>\n",
       "      <td>2011.000000</td>\n",
       "      <td>36.400000</td>\n",
       "      <td>2.400000</td>\n",
       "      <td>29.600000</td>\n",
       "      <td>42.325000</td>\n",
       "      <td>1642.000000</td>\n",
       "      <td>11.000000</td>\n",
       "    </tr>\n",
       "    <tr>\n",
       "      <th>max</th>\n",
       "      <td>2017.000000</td>\n",
       "      <td>98.000000</td>\n",
       "      <td>16.100000</td>\n",
       "      <td>97.600000</td>\n",
       "      <td>98.400000</td>\n",
       "      <td>36910.000000</td>\n",
       "      <td>12.000000</td>\n",
       "    </tr>\n",
       "  </tbody>\n",
       "</table>\n",
       "</div>"
      ],
      "text/plain": [
       "               YEAR    Data_Value  Data_Value_Std_Err  Low_Confidence_Limit  \\\n",
       "count  10076.000000  10076.000000        10076.000000          10076.000000   \n",
       "mean    2006.867705     20.319035            1.850973             16.703374   \n",
       "std        5.417412     21.153165            1.777582             18.559545   \n",
       "min     1999.000000      0.000000            0.000000              0.000000   \n",
       "25%     2002.000000      3.000000            0.600000              1.700000   \n",
       "50%     2006.000000     10.500000            1.300000              7.900000   \n",
       "75%     2011.000000     36.400000            2.400000             29.600000   \n",
       "max     2017.000000     98.000000           16.100000             97.600000   \n",
       "\n",
       "       High_Confidence_Limit   Sample_Size  DisplayOrder  \n",
       "count           10076.000000  10076.000000  10076.000000  \n",
       "mean               23.943132   1483.832572      8.343092  \n",
       "std                23.967822   2189.891960      2.945307  \n",
       "min                 0.000000     50.000000      1.000000  \n",
       "25%                 4.300000    671.000000      7.000000  \n",
       "50%                13.200000   1001.500000      9.000000  \n",
       "75%                42.325000   1642.000000     11.000000  \n",
       "max                98.400000  36910.000000     12.000000  "
      ]
     },
     "execution_count": 16,
     "metadata": {},
     "output_type": "execute_result"
    }
   ],
   "source": [
    "yts_data.describe()"
   ]
  },
  {
   "cell_type": "markdown",
   "id": "144d005c",
   "metadata": {},
   "source": [
    "# Aggregate data by YEAR to get the average tobacco use rate per year"
   ]
  },
  {
   "cell_type": "code",
   "execution_count": 17,
   "id": "151bc5dc",
   "metadata": {},
   "outputs": [
    {
     "data": {
      "text/html": [
       "<div>\n",
       "<style scoped>\n",
       "    .dataframe tbody tr th:only-of-type {\n",
       "        vertical-align: middle;\n",
       "    }\n",
       "\n",
       "    .dataframe tbody tr th {\n",
       "        vertical-align: top;\n",
       "    }\n",
       "\n",
       "    .dataframe thead th {\n",
       "        text-align: right;\n",
       "    }\n",
       "</style>\n",
       "<table border=\"1\" class=\"dataframe\">\n",
       "  <thead>\n",
       "    <tr style=\"text-align: right;\">\n",
       "      <th></th>\n",
       "      <th>YEAR</th>\n",
       "      <th>Data_Value</th>\n",
       "    </tr>\n",
       "  </thead>\n",
       "  <tbody>\n",
       "    <tr>\n",
       "      <th>0</th>\n",
       "      <td>1999</td>\n",
       "      <td>26.072849</td>\n",
       "    </tr>\n",
       "    <tr>\n",
       "      <th>1</th>\n",
       "      <td>2000</td>\n",
       "      <td>26.714642</td>\n",
       "    </tr>\n",
       "    <tr>\n",
       "      <th>2</th>\n",
       "      <td>2001</td>\n",
       "      <td>23.370000</td>\n",
       "    </tr>\n",
       "    <tr>\n",
       "      <th>3</th>\n",
       "      <td>2002</td>\n",
       "      <td>25.193280</td>\n",
       "    </tr>\n",
       "    <tr>\n",
       "      <th>4</th>\n",
       "      <td>2003</td>\n",
       "      <td>21.267216</td>\n",
       "    </tr>\n",
       "    <tr>\n",
       "      <th>5</th>\n",
       "      <td>2004</td>\n",
       "      <td>20.704131</td>\n",
       "    </tr>\n",
       "    <tr>\n",
       "      <th>6</th>\n",
       "      <td>2005</td>\n",
       "      <td>21.792195</td>\n",
       "    </tr>\n",
       "    <tr>\n",
       "      <th>7</th>\n",
       "      <td>2006</td>\n",
       "      <td>21.762874</td>\n",
       "    </tr>\n",
       "    <tr>\n",
       "      <th>8</th>\n",
       "      <td>2007</td>\n",
       "      <td>20.013158</td>\n",
       "    </tr>\n",
       "    <tr>\n",
       "      <th>9</th>\n",
       "      <td>2008</td>\n",
       "      <td>18.231670</td>\n",
       "    </tr>\n",
       "    <tr>\n",
       "      <th>10</th>\n",
       "      <td>2009</td>\n",
       "      <td>18.254587</td>\n",
       "    </tr>\n",
       "    <tr>\n",
       "      <th>11</th>\n",
       "      <td>2010</td>\n",
       "      <td>17.780706</td>\n",
       "    </tr>\n",
       "    <tr>\n",
       "      <th>12</th>\n",
       "      <td>2011</td>\n",
       "      <td>17.761368</td>\n",
       "    </tr>\n",
       "    <tr>\n",
       "      <th>13</th>\n",
       "      <td>2012</td>\n",
       "      <td>15.528251</td>\n",
       "    </tr>\n",
       "    <tr>\n",
       "      <th>14</th>\n",
       "      <td>2013</td>\n",
       "      <td>16.684152</td>\n",
       "    </tr>\n",
       "    <tr>\n",
       "      <th>15</th>\n",
       "      <td>2014</td>\n",
       "      <td>15.677409</td>\n",
       "    </tr>\n",
       "    <tr>\n",
       "      <th>16</th>\n",
       "      <td>2015</td>\n",
       "      <td>14.765810</td>\n",
       "    </tr>\n",
       "    <tr>\n",
       "      <th>17</th>\n",
       "      <td>2016</td>\n",
       "      <td>12.510811</td>\n",
       "    </tr>\n",
       "    <tr>\n",
       "      <th>18</th>\n",
       "      <td>2017</td>\n",
       "      <td>11.799591</td>\n",
       "    </tr>\n",
       "  </tbody>\n",
       "</table>\n",
       "</div>"
      ],
      "text/plain": [
       "    YEAR  Data_Value\n",
       "0   1999   26.072849\n",
       "1   2000   26.714642\n",
       "2   2001   23.370000\n",
       "3   2002   25.193280\n",
       "4   2003   21.267216\n",
       "5   2004   20.704131\n",
       "6   2005   21.792195\n",
       "7   2006   21.762874\n",
       "8   2007   20.013158\n",
       "9   2008   18.231670\n",
       "10  2009   18.254587\n",
       "11  2010   17.780706\n",
       "12  2011   17.761368\n",
       "13  2012   15.528251\n",
       "14  2013   16.684152\n",
       "15  2014   15.677409\n",
       "16  2015   14.765810\n",
       "17  2016   12.510811\n",
       "18  2017   11.799591"
      ]
     },
     "execution_count": 17,
     "metadata": {},
     "output_type": "execute_result"
    }
   ],
   "source": [
    "yearly_data = yts_data.groupby('YEAR')['Data_Value'].mean().reset_index()\n",
    "yearly_data"
   ]
  },
  {
   "cell_type": "code",
   "execution_count": 18,
   "id": "b0f4f965",
   "metadata": {},
   "outputs": [
    {
     "data": {
      "image/png": "[encoded data removed]",
      "text/plain": [
       "<Figure size 1200x600 with 1 Axes>"
      ]
     },
     "metadata": {},
     "output_type": "display_data"
    }
   ],
   "source": [
    "import matplotlib.pyplot as plt\n",
    "\n",
    "plt.figure(figsize=(12, 6))\n",
    "plt.plot(yearly_data['YEAR'], yearly_data['Data_Value'], marker='o', linestyle='-')\n",
    "plt.title('Average Youth Tobacco Use Rate Over Time')\n",
    "plt.xlabel('Year')\n",
    "plt.ylabel('Average Tobacco Use Rate (%)')\n",
    "plt.grid(True)\n",
    "plt.show()\n"
   ]
  },
  {
   "cell_type": "markdown",
   "id": "a41f36da",
   "metadata": {},
   "source": [
    "The provided figure is a line graph representing the \"Average Youth Tobacco Use Rate Over Time\". It plots the average tobacco use rate (in percentage) among youth from around the year 1999 to  2018.\n",
    "\n",
    "The starting point shows that in the year 2000, the average youth tobacco use rate was slightly above 26%.\n",
    "There is a noticeable overall decline in the youth tobacco use rate over the 18-year period.\n",
    "The most significant drop occurred between 2000 and 2004, where the rate fell from over 26% to around 22%.\n",
    "After 2004, the decline continues but at a less steep rate.\n",
    "Around 2015, the graph indicates another sharper decline, bringing the rate down to below 15%.\n",
    "By the end of the period shown on the graph, the average youth tobacco use rate stands somewhere above 12%, indicating a rough halving of the rate since the year 2000.\n",
    "The graph does not indicate the causes of the decline, but it suggests that whatever measures were in place to reduce tobacco use among youth during this period were having a positive effect. This could be due to a variety of factors such as increased awareness of health risks, public health campaigns, legislative actions (like raising the age limit for tobacco purchase), and changes in social attitudes towards smoking."
   ]
  },
  {
   "cell_type": "code",
   "execution_count": 19,
   "id": "72197d8d",
   "metadata": {},
   "outputs": [
    {
     "data": {
      "text/html": [
       "<div>\n",
       "<style scoped>\n",
       "    .dataframe tbody tr th:only-of-type {\n",
       "        vertical-align: middle;\n",
       "    }\n",
       "\n",
       "    .dataframe tbody tr th {\n",
       "        vertical-align: top;\n",
       "    }\n",
       "\n",
       "    .dataframe thead th {\n",
       "        text-align: right;\n",
       "    }\n",
       "</style>\n",
       "<table border=\"1\" class=\"dataframe\">\n",
       "  <thead>\n",
       "    <tr style=\"text-align: right;\">\n",
       "      <th></th>\n",
       "      <th>LocationDesc</th>\n",
       "      <th>Data_Value</th>\n",
       "    </tr>\n",
       "  </thead>\n",
       "  <tbody>\n",
       "    <tr>\n",
       "      <th>0</th>\n",
       "      <td>Alabama</td>\n",
       "      <td>24.114563</td>\n",
       "    </tr>\n",
       "    <tr>\n",
       "      <th>1</th>\n",
       "      <td>Arizona</td>\n",
       "      <td>16.411066</td>\n",
       "    </tr>\n",
       "    <tr>\n",
       "      <th>2</th>\n",
       "      <td>Arkansas</td>\n",
       "      <td>26.044019</td>\n",
       "    </tr>\n",
       "    <tr>\n",
       "      <th>3</th>\n",
       "      <td>California</td>\n",
       "      <td>21.452083</td>\n",
       "    </tr>\n",
       "    <tr>\n",
       "      <th>4</th>\n",
       "      <td>Colorado</td>\n",
       "      <td>24.702174</td>\n",
       "    </tr>\n",
       "    <tr>\n",
       "      <th>5</th>\n",
       "      <td>Connecticut</td>\n",
       "      <td>15.933423</td>\n",
       "    </tr>\n",
       "    <tr>\n",
       "      <th>6</th>\n",
       "      <td>Delaware</td>\n",
       "      <td>17.906087</td>\n",
       "    </tr>\n",
       "    <tr>\n",
       "      <th>7</th>\n",
       "      <td>District of Columbia</td>\n",
       "      <td>19.827907</td>\n",
       "    </tr>\n",
       "    <tr>\n",
       "      <th>8</th>\n",
       "      <td>Florida</td>\n",
       "      <td>29.026042</td>\n",
       "    </tr>\n",
       "    <tr>\n",
       "      <th>9</th>\n",
       "      <td>Georgia</td>\n",
       "      <td>20.470990</td>\n",
       "    </tr>\n",
       "    <tr>\n",
       "      <th>10</th>\n",
       "      <td>Guam</td>\n",
       "      <td>31.231250</td>\n",
       "    </tr>\n",
       "    <tr>\n",
       "      <th>11</th>\n",
       "      <td>Hawaii</td>\n",
       "      <td>14.121505</td>\n",
       "    </tr>\n",
       "    <tr>\n",
       "      <th>12</th>\n",
       "      <td>Idaho</td>\n",
       "      <td>20.102174</td>\n",
       "    </tr>\n",
       "    <tr>\n",
       "      <th>13</th>\n",
       "      <td>Illinois</td>\n",
       "      <td>17.818008</td>\n",
       "    </tr>\n",
       "    <tr>\n",
       "      <th>14</th>\n",
       "      <td>Indiana</td>\n",
       "      <td>18.980147</td>\n",
       "    </tr>\n",
       "    <tr>\n",
       "      <th>15</th>\n",
       "      <td>Iowa</td>\n",
       "      <td>20.029231</td>\n",
       "    </tr>\n",
       "    <tr>\n",
       "      <th>16</th>\n",
       "      <td>Kansas</td>\n",
       "      <td>18.034286</td>\n",
       "    </tr>\n",
       "    <tr>\n",
       "      <th>17</th>\n",
       "      <td>Kentucky</td>\n",
       "      <td>28.220392</td>\n",
       "    </tr>\n",
       "    <tr>\n",
       "      <th>18</th>\n",
       "      <td>Louisiana</td>\n",
       "      <td>21.107037</td>\n",
       "    </tr>\n",
       "    <tr>\n",
       "      <th>19</th>\n",
       "      <td>Maine</td>\n",
       "      <td>19.297872</td>\n",
       "    </tr>\n",
       "    <tr>\n",
       "      <th>20</th>\n",
       "      <td>Maryland</td>\n",
       "      <td>22.957292</td>\n",
       "    </tr>\n",
       "    <tr>\n",
       "      <th>21</th>\n",
       "      <td>Massachusetts</td>\n",
       "      <td>21.402273</td>\n",
       "    </tr>\n",
       "    <tr>\n",
       "      <th>22</th>\n",
       "      <td>Michigan</td>\n",
       "      <td>23.097826</td>\n",
       "    </tr>\n",
       "    <tr>\n",
       "      <th>23</th>\n",
       "      <td>Minnesota</td>\n",
       "      <td>16.557988</td>\n",
       "    </tr>\n",
       "    <tr>\n",
       "      <th>24</th>\n",
       "      <td>Mississippi</td>\n",
       "      <td>20.535275</td>\n",
       "    </tr>\n",
       "    <tr>\n",
       "      <th>25</th>\n",
       "      <td>Missouri</td>\n",
       "      <td>17.987919</td>\n",
       "    </tr>\n",
       "    <tr>\n",
       "      <th>26</th>\n",
       "      <td>National (States and DC)</td>\n",
       "      <td>60.536667</td>\n",
       "    </tr>\n",
       "    <tr>\n",
       "      <th>27</th>\n",
       "      <td>Nebraska</td>\n",
       "      <td>23.028794</td>\n",
       "    </tr>\n",
       "    <tr>\n",
       "      <th>28</th>\n",
       "      <td>New Hampshire</td>\n",
       "      <td>18.333526</td>\n",
       "    </tr>\n",
       "    <tr>\n",
       "      <th>29</th>\n",
       "      <td>New Jersey</td>\n",
       "      <td>16.805612</td>\n",
       "    </tr>\n",
       "    <tr>\n",
       "      <th>30</th>\n",
       "      <td>New Mexico</td>\n",
       "      <td>20.912500</td>\n",
       "    </tr>\n",
       "    <tr>\n",
       "      <th>31</th>\n",
       "      <td>New York</td>\n",
       "      <td>23.491111</td>\n",
       "    </tr>\n",
       "    <tr>\n",
       "      <th>32</th>\n",
       "      <td>North Carolina</td>\n",
       "      <td>19.411139</td>\n",
       "    </tr>\n",
       "    <tr>\n",
       "      <th>33</th>\n",
       "      <td>North Dakota</td>\n",
       "      <td>20.390196</td>\n",
       "    </tr>\n",
       "    <tr>\n",
       "      <th>34</th>\n",
       "      <td>Ohio</td>\n",
       "      <td>16.826667</td>\n",
       "    </tr>\n",
       "    <tr>\n",
       "      <th>35</th>\n",
       "      <td>Oklahoma</td>\n",
       "      <td>22.743750</td>\n",
       "    </tr>\n",
       "    <tr>\n",
       "      <th>36</th>\n",
       "      <td>Pennsylvania</td>\n",
       "      <td>18.641558</td>\n",
       "    </tr>\n",
       "    <tr>\n",
       "      <th>37</th>\n",
       "      <td>Puerto Rico</td>\n",
       "      <td>23.166667</td>\n",
       "    </tr>\n",
       "    <tr>\n",
       "      <th>38</th>\n",
       "      <td>Rhode Island</td>\n",
       "      <td>21.020144</td>\n",
       "    </tr>\n",
       "    <tr>\n",
       "      <th>39</th>\n",
       "      <td>South Carolina</td>\n",
       "      <td>20.213761</td>\n",
       "    </tr>\n",
       "    <tr>\n",
       "      <th>40</th>\n",
       "      <td>South Dakota</td>\n",
       "      <td>21.378070</td>\n",
       "    </tr>\n",
       "    <tr>\n",
       "      <th>41</th>\n",
       "      <td>Tennessee</td>\n",
       "      <td>28.175595</td>\n",
       "    </tr>\n",
       "    <tr>\n",
       "      <th>42</th>\n",
       "      <td>Texas</td>\n",
       "      <td>27.885417</td>\n",
       "    </tr>\n",
       "    <tr>\n",
       "      <th>43</th>\n",
       "      <td>Utah</td>\n",
       "      <td>13.017969</td>\n",
       "    </tr>\n",
       "    <tr>\n",
       "      <th>44</th>\n",
       "      <td>Vermont</td>\n",
       "      <td>19.312088</td>\n",
       "    </tr>\n",
       "    <tr>\n",
       "      <th>45</th>\n",
       "      <td>Virgin Islands</td>\n",
       "      <td>6.166667</td>\n",
       "    </tr>\n",
       "    <tr>\n",
       "      <th>46</th>\n",
       "      <td>Virginia</td>\n",
       "      <td>7.507895</td>\n",
       "    </tr>\n",
       "    <tr>\n",
       "      <th>47</th>\n",
       "      <td>West Virginia</td>\n",
       "      <td>25.174194</td>\n",
       "    </tr>\n",
       "    <tr>\n",
       "      <th>48</th>\n",
       "      <td>Wisconsin</td>\n",
       "      <td>19.165860</td>\n",
       "    </tr>\n",
       "    <tr>\n",
       "      <th>49</th>\n",
       "      <td>Wyoming</td>\n",
       "      <td>27.383333</td>\n",
       "    </tr>\n",
       "  </tbody>\n",
       "</table>\n",
       "</div>"
      ],
      "text/plain": [
       "                LocationDesc  Data_Value\n",
       "0                    Alabama   24.114563\n",
       "1                    Arizona   16.411066\n",
       "2                   Arkansas   26.044019\n",
       "3                 California   21.452083\n",
       "4                   Colorado   24.702174\n",
       "5                Connecticut   15.933423\n",
       "6                   Delaware   17.906087\n",
       "7       District of Columbia   19.827907\n",
       "8                    Florida   29.026042\n",
       "9                    Georgia   20.470990\n",
       "10                      Guam   31.231250\n",
       "11                    Hawaii   14.121505\n",
       "12                     Idaho   20.102174\n",
       "13                  Illinois   17.818008\n",
       "14                   Indiana   18.980147\n",
       "15                      Iowa   20.029231\n",
       "16                    Kansas   18.034286\n",
       "17                  Kentucky   28.220392\n",
       "18                 Louisiana   21.107037\n",
       "19                     Maine   19.297872\n",
       "20                  Maryland   22.957292\n",
       "21             Massachusetts   21.402273\n",
       "22                  Michigan   23.097826\n",
       "23                 Minnesota   16.557988\n",
       "24               Mississippi   20.535275\n",
       "25                  Missouri   17.987919\n",
       "26  National (States and DC)   60.536667\n",
       "27                  Nebraska   23.028794\n",
       "28             New Hampshire   18.333526\n",
       "29                New Jersey   16.805612\n",
       "30                New Mexico   20.912500\n",
       "31                  New York   23.491111\n",
       "32            North Carolina   19.411139\n",
       "33              North Dakota   20.390196\n",
       "34                      Ohio   16.826667\n",
       "35                  Oklahoma   22.743750\n",
       "36              Pennsylvania   18.641558\n",
       "37               Puerto Rico   23.166667\n",
       "38              Rhode Island   21.020144\n",
       "39            South Carolina   20.213761\n",
       "40              South Dakota   21.378070\n",
       "41                 Tennessee   28.175595\n",
       "42                     Texas   27.885417\n",
       "43                      Utah   13.017969\n",
       "44                   Vermont   19.312088\n",
       "45            Virgin Islands    6.166667\n",
       "46                  Virginia    7.507895\n",
       "47             West Virginia   25.174194\n",
       "48                 Wisconsin   19.165860\n",
       "49                   Wyoming   27.383333"
      ]
     },
     "execution_count": 19,
     "metadata": {},
     "output_type": "execute_result"
    }
   ],
   "source": [
    "tobacoo_use_state_data = yts_data.groupby('LocationDesc')['Data_Value'].mean().reset_index()\n",
    "tobacoo_use_state_data"
   ]
  },
  {
   "cell_type": "code",
   "execution_count": 20,
   "id": "d78c7f65",
   "metadata": {},
   "outputs": [
    {
     "ename": "NameError",
     "evalue": "name 'average_use_by_state' is not defined",
     "output_type": "error",
     "traceback": [
      "\u001b[0;31m---------------------------------------------------------------------------\u001b[0m",
      "\u001b[0;31mNameError\u001b[0m                                 Traceback (most recent call last)",
      "Cell \u001b[0;32mIn[20], line 2\u001b[0m\n\u001b[1;32m      1\u001b[0m \u001b[38;5;66;03m# Calculate the average tobacco use by state\u001b[39;00m\n\u001b[0;32m----> 2\u001b[0m average_use_by_state \u001b[38;5;241m=\u001b[39m average_use_by_state\u001b[38;5;241m.\u001b[39mgroupby(\u001b[38;5;124m'\u001b[39m\u001b[38;5;124mLocationDesc\u001b[39m\u001b[38;5;124m'\u001b[39m)[\u001b[38;5;124m'\u001b[39m\u001b[38;5;124mData_Value\u001b[39m\u001b[38;5;124m'\u001b[39m]\u001b[38;5;241m.\u001b[39mmean()\u001b[38;5;241m.\u001b[39mreset_index()\u001b[38;5;241m.\u001b[39msort_values(by\u001b[38;5;241m=\u001b[39m\u001b[38;5;124m'\u001b[39m\u001b[38;5;124mData_Value\u001b[39m\u001b[38;5;124m'\u001b[39m, ascending\u001b[38;5;241m=\u001b[39m\u001b[38;5;28;01mFalse\u001b[39;00m)\n\u001b[1;32m      4\u001b[0m \u001b[38;5;66;03m# Plot the result\u001b[39;00m\n\u001b[1;32m      5\u001b[0m plt\u001b[38;5;241m.\u001b[39mfigure(figsize\u001b[38;5;241m=\u001b[39m(\u001b[38;5;241m14\u001b[39m, \u001b[38;5;241m8\u001b[39m))\n",
      "\u001b[0;31mNameError\u001b[0m: name 'average_use_by_state' is not defined"
     ]
    }
   ],
   "source": [
    "# Calculate the average tobacco use by state\n",
    "average_use_by_state = average_use_by_state.groupby('LocationDesc')['Data_Value'].mean().reset_index().sort_values(by='Data_Value', ascending=False)\n",
    "\n",
    "# Plot the result\n",
    "plt.figure(figsize=(14, 8))\n",
    "plt.barh(average_use_by_state['LocationDesc'], average_use_by_state['Data_Value'], color='skyblue')\n",
    "plt.title('Average Youth Tobacco Use by State', fontsize=14)\n",
    "plt.xlabel('Average Tobacco Use (%)', fontsize=12)\n",
    "plt.ylabel('State', fontsize=12)\n",
    "plt.tight_layout()\n",
    "plt.show()\n"
   ]
  },
  {
   "cell_type": "markdown",
   "id": "c3da7447",
   "metadata": {},
   "source": [
    "The chart provides a visual comparison of average tobacco use among youth across different states. The length of each bar represents the average percentage of youth tobacco use in that state, with longer bars indicating higher usage\n",
    "\n",
    "The chart shows a wide range of average tobacco use percentages among the states, indicating variability in how common tobacco use is among youth across the United States.\n",
    "\n",
    "States at the top of the chart, like the Virgin Islands, Virginia, and Hawaii, have shorter bars, suggesting they have lower average youth tobacco use. In contrast, states at the bottom, such as Florida, Kentucky, and Tennessee, have the longest bars, indicating they have the highest average rates of tobacco use among youth."
   ]
  },
  {
   "cell_type": "code",
   "execution_count": null,
   "id": "3a3dff87",
   "metadata": {},
   "outputs": [
    {
     "data": {
      "image/png": "[encoded data removed]",
      "text/plain": [
       "<Figure size 1200x600 with 1 Axes>"
      ]
     },
     "metadata": {},
     "output_type": "display_data"
    }
   ],
   "source": [
    "# Calculate the average use percentage for each type of tobacco product\n",
    "average_use_by_product = yts_data.groupby('TopicDesc')['Data_Value'].mean().reset_index().sort_values(by='Data_Value', ascending=False)\n",
    "\n",
    "# Plot the result\n",
    "plt.figure(figsize=(12, 6))\n",
    "plt.bar(average_use_by_product['TopicDesc'], average_use_by_product['Data_Value'], color='lightgreen')\n",
    "plt.title('Average Use of Tobacco Products by Youth', fontsize=14)\n",
    "plt.xlabel('Tobacco Product Type', fontsize=12)\n",
    "plt.ylabel('Average Use (%)', fontsize=12)\n",
    "plt.xticks(rotation=45, ha='right')\n",
    "plt.tight_layout()\n",
    "plt.show()\n"
   ]
  },
  {
   "cell_type": "markdown",
   "id": "4e0b7f08",
   "metadata": {},
   "source": [
    "Cessation (Youth): This likely refers to the average rate at which youth are attempting to quit or reduce tobacco use. It's considerably higher than the use rates of actual tobacco products, which could indicate a strong interest or effort among youth to stop using tobacco.\n",
    "\n",
    "Cigarette Use (Youth): This represents the average use percentage of cigarettes among youth. It is lower than the cessation rate, suggesting that while cigarette use is present, there is a greater tendency towards quitting.\n",
    "\n",
    "Smokeless Tobacco Use (Youth): This shows the average use of smokeless tobacco products, which is the lowest among the three categories.\n",
    "\n",
    "The chart provides insights into tobacco product usage behaviors among youth, highlighting that cessation efforts have a higher average percentage compared to actual usage of cigarette and smokeless tobacco. This could indicate effective public health messaging or tobacco control policies influencing youth behavior"
   ]
  },
  {
   "cell_type": "markdown",
   "id": "844270ae",
   "metadata": {},
   "source": [
    "## Corelation analysis"
   ]
  },
  {
   "cell_type": "markdown",
   "id": "186ce655",
   "metadata": {},
   "source": [
    "# Checking for other numerical columns that might be relevant for correlation analysis"
   ]
  },
  {
   "cell_type": "code",
   "execution_count": null,
   "id": "d97aa8ca",
   "metadata": {},
   "outputs": [],
   "source": [
    "numerical_columns = yts_data.select_dtypes(include=['float64', 'int64']).columns.tolist()"
   ]
  },
  {
   "cell_type": "markdown",
   "id": "75589106",
   "metadata": {},
   "source": [
    "# Display the list of numerical columns"
   ]
  },
  {
   "cell_type": "code",
   "execution_count": null,
   "id": "d72f628d",
   "metadata": {},
   "outputs": [
    {
     "data": {
      "text/plain": [
       "['YEAR',\n",
       " 'Data_Value',\n",
       " 'Data_Value_Std_Err',\n",
       " 'Low_Confidence_Limit',\n",
       " 'High_Confidence_Limit',\n",
       " 'Sample_Size',\n",
       " 'DisplayOrder']"
      ]
     },
     "execution_count": 113,
     "metadata": {},
     "output_type": "execute_result"
    }
   ],
   "source": [
    "numerical_columns"
   ]
  },
  {
   "cell_type": "code",
   "execution_count": null,
   "id": "338d77a0",
   "metadata": {},
   "outputs": [],
   "source": [
    "#standarlizing the column "
   ]
  },
  {
   "cell_type": "code",
   "execution_count": null,
   "id": "795ac70f",
   "metadata": {},
   "outputs": [],
   "source": [
    "import pandas as pd\n",
    "from sklearn.preprocessing import StandardScaler\n",
    "\n",
    "numerical_cols = ['Data_Value', 'Data_Value_Std_Err', 'Low_Confidence_Limit', 'High_Confidence_Limit', 'Sample_Size']\n",
    "\n",
    "# Initialize the StandardScaler\n",
    "scaler = StandardScaler()\n",
    "\n",
    "# Standardize the numerical columns\n",
    "yts_data[numerical_cols] = scaler.fit_transform(yts_data[numerical_cols])"
   ]
  },
  {
   "cell_type": "markdown",
   "id": "36296081",
   "metadata": {},
   "source": [
    "# Calculate the correlation matrix for the numerical columns"
   ]
  },
  {
   "cell_type": "code",
   "execution_count": null,
   "id": "a62919ac",
   "metadata": {},
   "outputs": [],
   "source": [
    "correlation_matrix = yts_data[numerical_columns].corr()"
   ]
  },
  {
   "cell_type": "markdown",
   "id": "f2a98965",
   "metadata": {},
   "source": [
    "# Display the correlation matrix focusing on 'Data_Value' correlations"
   ]
  },
  {
   "cell_type": "code",
   "execution_count": null,
   "id": "9fc555f5",
   "metadata": {},
   "outputs": [
    {
     "data": {
      "text/plain": [
       "YEAR                    -0.197978\n",
       "Data_Value               1.000000\n",
       "Data_Value_Std_Err       0.778063\n",
       "Low_Confidence_Limit     0.993065\n",
       "High_Confidence_Limit    0.995820\n",
       "Sample_Size             -0.195556\n",
       "DisplayOrder            -0.733275\n",
       "Name: Data_Value, dtype: float64"
      ]
     },
     "execution_count": 117,
     "metadata": {},
     "output_type": "execute_result"
    }
   ],
   "source": [
    "correlation_matrix['Data_Value']"
   ]
  },
  {
   "cell_type": "code",
   "execution_count": null,
   "id": "c9db7523",
   "metadata": {},
   "outputs": [
    {
     "data": {
      "image/png": "[encoded data removed]",
      "text/plain": [
       "<Figure size 1000x800 with 2 Axes>"
      ]
     },
     "metadata": {},
     "output_type": "display_data"
    }
   ],
   "source": [
    "\n",
    "\n",
    "# Set up the matplotlib figure\n",
    "plt.figure(figsize=(10, 8))\n",
    "\n",
    "# Draw the heatmap with the mask and correct aspect ratio\n",
    "sns.heatmap(correlation_matrix, annot=True, fmt=\".2f\", cmap='coolwarm', cbar_kws={\"shrink\": .5})\n",
    "\n",
    "plt.title('Correlation Matrix of Numerical Variables', fontsize=16)\n",
    "plt.xticks(rotation=45, ha='right')\n",
    "plt.yticks(rotation=0)\n",
    "plt.tight_layout()\n",
    "plt.show()\n"
   ]
  },
  {
   "cell_type": "markdown",
   "id": "7c0a0dde",
   "metadata": {},
   "source": [
    "The heatmap visualizes the correlation matrix of numerical variables in the dataset, providing insights into how these variables relate to each other, particularly in relation to Data_Value, the percentage of youth tobacco use.\n",
    "\n",
    "Key observations from the heatmap:\n",
    "\n",
    "1.There's a slight negative correlation between YEAR and Data_Value, indicating a decrease in youth tobacco use over time.\n",
    "\n",
    "2.High correlations between Data_Value and its low/high confidence limits suggest a strong relationship between the reported values and their confidence intervals.\n",
    "\n",
    "3.The significant negative correlation between Data_Value and DisplayOrder is visible."
   ]
  },
  {
   "cell_type": "markdown",
   "id": "c673e03f",
   "metadata": {},
   "source": [
    "## Clustering tobacoo use rates according to geographic location"
   ]
  },
  {
   "cell_type": "markdown",
   "id": "70a8dc34",
   "metadata": {},
   "source": [
    "# Check for the presence of a suitable variable for tobacco use percentage and prepare for aggregation"
   ]
  },
  {
   "cell_type": "code",
   "execution_count": null,
   "id": "b2ef4d9b",
   "metadata": {},
   "outputs": [
    {
     "data": {
      "text/plain": [
       "Index(['YEAR', 'LocationAbbr', 'LocationDesc', 'TopicType', 'TopicDesc',\n",
       "       'MeasureDesc', 'DataSource', 'Response', 'Data_Value_Unit',\n",
       "       'Data_Value_Type', 'Data_Value', 'Data_Value_Std_Err',\n",
       "       'Low_Confidence_Limit', 'High_Confidence_Limit', 'Sample_Size',\n",
       "       'Gender', 'Race', 'Age', 'Education', 'GeoLocation', 'TopicTypeId',\n",
       "       'TopicId', 'MeasureId', 'StratificationID1', 'StratificationID2',\n",
       "       'StratificationID3', 'StratificationID4', 'SubMeasureID',\n",
       "       'DisplayOrder'],\n",
       "      dtype='object')"
      ]
     },
     "execution_count": 119,
     "metadata": {},
     "output_type": "execute_result"
    }
   ],
   "source": [
    "yts_data.columns"
   ]
  },
  {
   "cell_type": "markdown",
   "id": "71b41e59",
   "metadata": {},
   "source": [
    "# Aggregate Data_Value by LocationAbbr to get the mean percentage of tobacco use for each state"
   ]
  },
  {
   "cell_type": "code",
   "execution_count": null,
   "id": "92e21241",
   "metadata": {},
   "outputs": [],
   "source": [
    "state_tobacco_use = yts_data.groupby('LocationDesc')['Data_Value'].mean().reset_index()"
   ]
  },
  {
   "cell_type": "markdown",
   "id": "94aa3e06",
   "metadata": {},
   "source": [
    "# Display the aggregated data to verify"
   ]
  },
  {
   "cell_type": "code",
   "execution_count": null,
   "id": "da2d9e5a",
   "metadata": {},
   "outputs": [
    {
     "data": {
      "text/html": [
       "<div>\n",
       "<style scoped>\n",
       "    .dataframe tbody tr th:only-of-type {\n",
       "        vertical-align: middle;\n",
       "    }\n",
       "\n",
       "    .dataframe tbody tr th {\n",
       "        vertical-align: top;\n",
       "    }\n",
       "\n",
       "    .dataframe thead th {\n",
       "        text-align: right;\n",
       "    }\n",
       "</style>\n",
       "<table border=\"1\" class=\"dataframe\">\n",
       "  <thead>\n",
       "    <tr style=\"text-align: right;\">\n",
       "      <th></th>\n",
       "      <th>LocationDesc</th>\n",
       "      <th>Data_Value</th>\n",
       "    </tr>\n",
       "  </thead>\n",
       "  <tbody>\n",
       "    <tr>\n",
       "      <th>0</th>\n",
       "      <td>Alabama</td>\n",
       "      <td>24.114563</td>\n",
       "    </tr>\n",
       "    <tr>\n",
       "      <th>1</th>\n",
       "      <td>Arizona</td>\n",
       "      <td>16.411066</td>\n",
       "    </tr>\n",
       "    <tr>\n",
       "      <th>2</th>\n",
       "      <td>Arkansas</td>\n",
       "      <td>26.044019</td>\n",
       "    </tr>\n",
       "    <tr>\n",
       "      <th>3</th>\n",
       "      <td>California</td>\n",
       "      <td>21.452083</td>\n",
       "    </tr>\n",
       "    <tr>\n",
       "      <th>4</th>\n",
       "      <td>Colorado</td>\n",
       "      <td>24.702174</td>\n",
       "    </tr>\n",
       "  </tbody>\n",
       "</table>\n",
       "</div>"
      ],
      "text/plain": [
       "  LocationDesc  Data_Value\n",
       "0      Alabama   24.114563\n",
       "1      Arizona   16.411066\n",
       "2     Arkansas   26.044019\n",
       "3   California   21.452083\n",
       "4     Colorado   24.702174"
      ]
     },
     "execution_count": 50,
     "metadata": {},
     "output_type": "execute_result"
    }
   ],
   "source": [
    "state_tobacco_use.head()"
   ]
  },
  {
   "cell_type": "code",
   "execution_count": null,
   "id": "1ac69f59",
   "metadata": {},
   "outputs": [],
   "source": [
    "# specifying state with colour for visualiztion in Power BI"
   ]
  },
  {
   "cell_type": "code",
   "execution_count": null,
   "id": "aa720f2b",
   "metadata": {},
   "outputs": [],
   "source": [
    "def determine_color(data_value):\n",
    "    if 20 <= data_value <= 30:\n",
    "        return 'red'\n",
    "    elif 10 <= data_value < 20:\n",
    "        return 'blue'\n",
    "    elif 0 <= data_value < 10:\n",
    "        return 'yellow'\n",
    "    else:\n",
    "        return 'unknown'  \n",
    "\n",
    "# Apply the function to the DataFrame to create the new 'color' column\n",
    "state_tobacco_use['color'] = state_tobacco_use['Data_Value'].apply(determine_color)\n",
    "\n"
   ]
  },
  {
   "cell_type": "code",
   "execution_count": null,
   "id": "75c37d8c",
   "metadata": {},
   "outputs": [],
   "source": [
    "#saving the file"
   ]
  },
  {
   "cell_type": "code",
   "execution_count": null,
   "id": "4df65481",
   "metadata": {},
   "outputs": [],
   "source": [
    "state_tobacco_use.to_csv('state_tobacco_use_with_color.csv', index=False)\n"
   ]
  },
  {
   "cell_type": "markdown",
   "id": "7ec8bd4c",
   "metadata": {},
   "source": [
    "# Standardize the Data_Value"
   ]
  },
  {
   "cell_type": "code",
   "execution_count": null,
   "id": "b38684bc",
   "metadata": {},
   "outputs": [],
   "source": [
    "scaler = StandardScaler()\n",
    "state_tobacco_use_scaled = scaler.fit_transform(state_tobacco_use[['Data_Value']])"
   ]
  },
  {
   "cell_type": "markdown",
   "id": "927046ca",
   "metadata": {},
   "source": [
    "# Determine the optimal number of clusters using the Elbow Method"
   ]
  },
  {
   "cell_type": "code",
   "execution_count": null,
   "id": "23e6e225",
   "metadata": {},
   "outputs": [
    {
     "name": "stderr",
     "output_type": "stream",
     "text": [
      "C:\\Users\\Dell\\anaconda3\\lib\\site-packages\\sklearn\\cluster\\_kmeans.py:1412: FutureWarning: The default value of `n_init` will change from 10 to 'auto' in 1.4. Set the value of `n_init` explicitly to suppress the warning\n",
      "  super()._check_params_vs_input(X, default_n_init=10)\n",
      "C:\\Users\\Dell\\anaconda3\\lib\\site-packages\\sklearn\\cluster\\_kmeans.py:1436: UserWarning: KMeans is known to have a memory leak on Windows with MKL, when there are less chunks than available threads. You can avoid it by setting the environment variable OMP_NUM_THREADS=1.\n",
      "  warnings.warn(\n",
      "C:\\Users\\Dell\\anaconda3\\lib\\site-packages\\sklearn\\cluster\\_kmeans.py:1412: FutureWarning: The default value of `n_init` will change from 10 to 'auto' in 1.4. Set the value of `n_init` explicitly to suppress the warning\n",
      "  super()._check_params_vs_input(X, default_n_init=10)\n",
      "C:\\Users\\Dell\\anaconda3\\lib\\site-packages\\sklearn\\cluster\\_kmeans.py:1436: UserWarning: KMeans is known to have a memory leak on Windows with MKL, when there are less chunks than available threads. You can avoid it by setting the environment variable OMP_NUM_THREADS=1.\n",
      "  warnings.warn(\n",
      "C:\\Users\\Dell\\anaconda3\\lib\\site-packages\\sklearn\\cluster\\_kmeans.py:1412: FutureWarning: The default value of `n_init` will change from 10 to 'auto' in 1.4. Set the value of `n_init` explicitly to suppress the warning\n",
      "  super()._check_params_vs_input(X, default_n_init=10)\n",
      "C:\\Users\\Dell\\anaconda3\\lib\\site-packages\\sklearn\\cluster\\_kmeans.py:1436: UserWarning: KMeans is known to have a memory leak on Windows with MKL, when there are less chunks than available threads. You can avoid it by setting the environment variable OMP_NUM_THREADS=1.\n",
      "  warnings.warn(\n",
      "C:\\Users\\Dell\\anaconda3\\lib\\site-packages\\sklearn\\cluster\\_kmeans.py:1412: FutureWarning: The default value of `n_init` will change from 10 to 'auto' in 1.4. Set the value of `n_init` explicitly to suppress the warning\n",
      "  super()._check_params_vs_input(X, default_n_init=10)\n",
      "C:\\Users\\Dell\\anaconda3\\lib\\site-packages\\sklearn\\cluster\\_kmeans.py:1436: UserWarning: KMeans is known to have a memory leak on Windows with MKL, when there are less chunks than available threads. You can avoid it by setting the environment variable OMP_NUM_THREADS=1.\n",
      "  warnings.warn(\n",
      "C:\\Users\\Dell\\anaconda3\\lib\\site-packages\\sklearn\\cluster\\_kmeans.py:1412: FutureWarning: The default value of `n_init` will change from 10 to 'auto' in 1.4. Set the value of `n_init` explicitly to suppress the warning\n",
      "  super()._check_params_vs_input(X, default_n_init=10)\n",
      "C:\\Users\\Dell\\anaconda3\\lib\\site-packages\\sklearn\\cluster\\_kmeans.py:1436: UserWarning: KMeans is known to have a memory leak on Windows with MKL, when there are less chunks than available threads. You can avoid it by setting the environment variable OMP_NUM_THREADS=1.\n",
      "  warnings.warn(\n",
      "C:\\Users\\Dell\\anaconda3\\lib\\site-packages\\sklearn\\cluster\\_kmeans.py:1412: FutureWarning: The default value of `n_init` will change from 10 to 'auto' in 1.4. Set the value of `n_init` explicitly to suppress the warning\n",
      "  super()._check_params_vs_input(X, default_n_init=10)\n",
      "C:\\Users\\Dell\\anaconda3\\lib\\site-packages\\sklearn\\cluster\\_kmeans.py:1436: UserWarning: KMeans is known to have a memory leak on Windows with MKL, when there are less chunks than available threads. You can avoid it by setting the environment variable OMP_NUM_THREADS=1.\n",
      "  warnings.warn(\n",
      "C:\\Users\\Dell\\anaconda3\\lib\\site-packages\\sklearn\\cluster\\_kmeans.py:1412: FutureWarning: The default value of `n_init` will change from 10 to 'auto' in 1.4. Set the value of `n_init` explicitly to suppress the warning\n",
      "  super()._check_params_vs_input(X, default_n_init=10)\n",
      "C:\\Users\\Dell\\anaconda3\\lib\\site-packages\\sklearn\\cluster\\_kmeans.py:1436: UserWarning: KMeans is known to have a memory leak on Windows with MKL, when there are less chunks than available threads. You can avoid it by setting the environment variable OMP_NUM_THREADS=1.\n",
      "  warnings.warn(\n",
      "C:\\Users\\Dell\\anaconda3\\lib\\site-packages\\sklearn\\cluster\\_kmeans.py:1412: FutureWarning: The default value of `n_init` will change from 10 to 'auto' in 1.4. Set the value of `n_init` explicitly to suppress the warning\n",
      "  super()._check_params_vs_input(X, default_n_init=10)\n",
      "C:\\Users\\Dell\\anaconda3\\lib\\site-packages\\sklearn\\cluster\\_kmeans.py:1436: UserWarning: KMeans is known to have a memory leak on Windows with MKL, when there are less chunks than available threads. You can avoid it by setting the environment variable OMP_NUM_THREADS=1.\n",
      "  warnings.warn(\n",
      "C:\\Users\\Dell\\anaconda3\\lib\\site-packages\\sklearn\\cluster\\_kmeans.py:1412: FutureWarning: The default value of `n_init` will change from 10 to 'auto' in 1.4. Set the value of `n_init` explicitly to suppress the warning\n",
      "  super()._check_params_vs_input(X, default_n_init=10)\n",
      "C:\\Users\\Dell\\anaconda3\\lib\\site-packages\\sklearn\\cluster\\_kmeans.py:1436: UserWarning: KMeans is known to have a memory leak on Windows with MKL, when there are less chunks than available threads. You can avoid it by setting the environment variable OMP_NUM_THREADS=1.\n",
      "  warnings.warn(\n",
      "C:\\Users\\Dell\\anaconda3\\lib\\site-packages\\sklearn\\cluster\\_kmeans.py:1412: FutureWarning: The default value of `n_init` will change from 10 to 'auto' in 1.4. Set the value of `n_init` explicitly to suppress the warning\n",
      "  super()._check_params_vs_input(X, default_n_init=10)\n",
      "C:\\Users\\Dell\\anaconda3\\lib\\site-packages\\sklearn\\cluster\\_kmeans.py:1436: UserWarning: KMeans is known to have a memory leak on Windows with MKL, when there are less chunks than available threads. You can avoid it by setting the environment variable OMP_NUM_THREADS=1.\n",
      "  warnings.warn(\n"
     ]
    },
    {
     "data": {
      "image/png": "[encoded data removed]",
      "text/plain": [
       "<Figure size 1000x600 with 1 Axes>"
      ]
     },
     "metadata": {},
     "output_type": "display_data"
    }
   ],
   "source": [
    "\n",
    "inertia = []\n",
    "k_range = range(1, 11)  # Test 1 to 10 clusters\n",
    "for k in k_range:\n",
    "    kmeans = KMeans(n_clusters=k, random_state=42)\n",
    "    kmeans.fit(state_tobacco_use_scaled)\n",
    "    inertia.append(kmeans.inertia_)\n",
    "\n",
    "# Plot the Elbow curve\n",
    "plt.figure(figsize=(10, 6))\n",
    "plt.plot(k_range, inertia, marker='o')\n",
    "plt.title('Elbow Method for Optimal k')\n",
    "plt.xlabel('Number of clusters')\n",
    "plt.ylabel('Inertia')\n",
    "plt.xticks(k_range)\n",
    "plt.grid(True)\n",
    "plt.show()"
   ]
  },
  {
   "cell_type": "markdown",
   "id": "ea817ebc",
   "metadata": {},
   "source": [
    "# Apply K-means clustering with 3 clusters"
   ]
  },
  {
   "cell_type": "code",
   "execution_count": null,
   "id": "ca4070ae",
   "metadata": {},
   "outputs": [
    {
     "name": "stderr",
     "output_type": "stream",
     "text": [
      "C:\\Users\\Dell\\anaconda3\\lib\\site-packages\\sklearn\\cluster\\_kmeans.py:1412: FutureWarning: The default value of `n_init` will change from 10 to 'auto' in 1.4. Set the value of `n_init` explicitly to suppress the warning\n",
      "  super()._check_params_vs_input(X, default_n_init=10)\n",
      "C:\\Users\\Dell\\anaconda3\\lib\\site-packages\\sklearn\\cluster\\_kmeans.py:1436: UserWarning: KMeans is known to have a memory leak on Windows with MKL, when there are less chunks than available threads. You can avoid it by setting the environment variable OMP_NUM_THREADS=1.\n",
      "  warnings.warn(\n"
     ]
    }
   ],
   "source": [
    "kmeans = KMeans(n_clusters=3, random_state=42)\n",
    "state_tobacco_use['Cluster'] = kmeans.fit_predict(state_tobacco_use_scaled)"
   ]
  },
  {
   "cell_type": "markdown",
   "id": "1d219d3d",
   "metadata": {},
   "source": [
    "# Check the first few entries to see the cluster "
   ]
  },
  {
   "cell_type": "code",
   "execution_count": null,
   "id": "815f6a88",
   "metadata": {},
   "outputs": [
    {
     "data": {
      "text/html": [
       "<div>\n",
       "<style scoped>\n",
       "    .dataframe tbody tr th:only-of-type {\n",
       "        vertical-align: middle;\n",
       "    }\n",
       "\n",
       "    .dataframe tbody tr th {\n",
       "        vertical-align: top;\n",
       "    }\n",
       "\n",
       "    .dataframe thead th {\n",
       "        text-align: right;\n",
       "    }\n",
       "</style>\n",
       "<table border=\"1\" class=\"dataframe\">\n",
       "  <thead>\n",
       "    <tr style=\"text-align: right;\">\n",
       "      <th></th>\n",
       "      <th>LocationDesc</th>\n",
       "      <th>Data_Value</th>\n",
       "      <th>color</th>\n",
       "      <th>Cluster</th>\n",
       "    </tr>\n",
       "  </thead>\n",
       "  <tbody>\n",
       "    <tr>\n",
       "      <th>0</th>\n",
       "      <td>Alabama</td>\n",
       "      <td>24.114563</td>\n",
       "      <td>red</td>\n",
       "      <td>2</td>\n",
       "    </tr>\n",
       "    <tr>\n",
       "      <th>1</th>\n",
       "      <td>Arizona</td>\n",
       "      <td>16.411066</td>\n",
       "      <td>blue</td>\n",
       "      <td>0</td>\n",
       "    </tr>\n",
       "    <tr>\n",
       "      <th>2</th>\n",
       "      <td>Arkansas</td>\n",
       "      <td>26.044019</td>\n",
       "      <td>red</td>\n",
       "      <td>2</td>\n",
       "    </tr>\n",
       "    <tr>\n",
       "      <th>3</th>\n",
       "      <td>California</td>\n",
       "      <td>21.452083</td>\n",
       "      <td>red</td>\n",
       "      <td>0</td>\n",
       "    </tr>\n",
       "    <tr>\n",
       "      <th>4</th>\n",
       "      <td>Colorado</td>\n",
       "      <td>24.702174</td>\n",
       "      <td>red</td>\n",
       "      <td>2</td>\n",
       "    </tr>\n",
       "  </tbody>\n",
       "</table>\n",
       "</div>"
      ],
      "text/plain": [
       "  LocationDesc  Data_Value color  Cluster\n",
       "0      Alabama   24.114563   red        2\n",
       "1      Arizona   16.411066  blue        0\n",
       "2     Arkansas   26.044019   red        2\n",
       "3   California   21.452083   red        0\n",
       "4     Colorado   24.702174   red        2"
      ]
     },
     "execution_count": 58,
     "metadata": {},
     "output_type": "execute_result"
    }
   ],
   "source": [
    "state_tobacco_use.head()"
   ]
  },
  {
   "cell_type": "markdown",
   "id": "f50c42b8",
   "metadata": {},
   "source": [
    "# Calculate the mean Data_Value for each cluster"
   ]
  },
  {
   "cell_type": "code",
   "execution_count": null,
   "id": "17c340cc",
   "metadata": {},
   "outputs": [],
   "source": [
    "cluster_means = state_tobacco_use.groupby('Cluster')['Data_Value'].mean().reset_index()"
   ]
  },
  {
   "cell_type": "markdown",
   "id": "d9c740de",
   "metadata": {},
   "source": [
    "# Get states in each cluster"
   ]
  },
  {
   "cell_type": "code",
   "execution_count": null,
   "id": "74c3407f",
   "metadata": {},
   "outputs": [],
   "source": [
    "cluster_assignments = state_tobacco_use.groupby('Cluster')['LocationDesc'].apply(list).reset_index()"
   ]
  },
  {
   "cell_type": "markdown",
   "id": "ef9d8337",
   "metadata": {},
   "source": [
    "# Merge cluster means with their state  interpretation"
   ]
  },
  {
   "cell_type": "code",
   "execution_count": null,
   "id": "6477826b",
   "metadata": {},
   "outputs": [
    {
     "data": {
      "text/html": [
       "<div>\n",
       "<style scoped>\n",
       "    .dataframe tbody tr th:only-of-type {\n",
       "        vertical-align: middle;\n",
       "    }\n",
       "\n",
       "    .dataframe tbody tr th {\n",
       "        vertical-align: top;\n",
       "    }\n",
       "\n",
       "    .dataframe thead th {\n",
       "        text-align: right;\n",
       "    }\n",
       "</style>\n",
       "<table border=\"1\" class=\"dataframe\">\n",
       "  <thead>\n",
       "    <tr style=\"text-align: right;\">\n",
       "      <th></th>\n",
       "      <th>Cluster</th>\n",
       "      <th>Mean Tobacco Use (%)</th>\n",
       "      <th>States</th>\n",
       "    </tr>\n",
       "  </thead>\n",
       "  <tbody>\n",
       "    <tr>\n",
       "      <th>0</th>\n",
       "      <td>0</td>\n",
       "      <td>18.093301</td>\n",
       "      <td>[Arizona, California, Connecticut, Delaware, D...</td>\n",
       "    </tr>\n",
       "    <tr>\n",
       "      <th>1</th>\n",
       "      <td>1</td>\n",
       "      <td>60.536667</td>\n",
       "      <td>[National (States and DC)]</td>\n",
       "    </tr>\n",
       "    <tr>\n",
       "      <th>2</th>\n",
       "      <td>2</td>\n",
       "      <td>25.652651</td>\n",
       "      <td>[Alabama, Arkansas, Colorado, Florida, Guam, K...</td>\n",
       "    </tr>\n",
       "  </tbody>\n",
       "</table>\n",
       "</div>"
      ],
      "text/plain": [
       "   Cluster  Mean Tobacco Use (%)  \\\n",
       "0        0             18.093301   \n",
       "1        1             60.536667   \n",
       "2        2             25.652651   \n",
       "\n",
       "                                              States  \n",
       "0  [Arizona, California, Connecticut, Delaware, D...  \n",
       "1                         [National (States and DC)]  \n",
       "2  [Alabama, Arkansas, Colorado, Florida, Guam, K...  "
      ]
     },
     "execution_count": 61,
     "metadata": {},
     "output_type": "execute_result"
    }
   ],
   "source": [
    "cluster_summary = pd.merge(cluster_means, cluster_assignments, on='Cluster')\n",
    "cluster_summary.rename(columns={'Data_Value': 'Mean Tobacco Use (%)', 'LocationDesc': 'States'}, inplace=True)\n",
    "\n",
    "cluster_summary\n"
   ]
  },
  {
   "cell_type": "markdown",
   "id": "4782cf69",
   "metadata": {},
   "source": [
    "# Printing the list of states in Cluster 1"
   ]
  },
  {
   "cell_type": "code",
   "execution_count": null,
   "id": "a94b0124",
   "metadata": {},
   "outputs": [
    {
     "name": "stdout",
     "output_type": "stream",
     "text": [
      "States in Cluster 1: ['National (States and DC)']\n"
     ]
    }
   ],
   "source": [
    "#  states and their cluster \n",
    "cluster_1_states = state_tobacco_use[state_tobacco_use['Cluster'] == 1]['LocationDesc'].tolist()\n",
    "\n",
    "\n",
    "print(\"States in Cluster 1:\", cluster_1_states)\n"
   ]
  },
  {
   "cell_type": "markdown",
   "id": "9806fef3",
   "metadata": {},
   "source": [
    "# Printing the list of states in Cluster 2"
   ]
  },
  {
   "cell_type": "code",
   "execution_count": null,
   "id": "9b6ec87c",
   "metadata": {},
   "outputs": [
    {
     "ename": "NameError",
     "evalue": "name 'state_tobacco_use' is not defined",
     "output_type": "error",
     "traceback": [
      "\u001b[1;31m---------------------------------------------------------------------------\u001b[0m",
      "\u001b[1;31mNameError\u001b[0m                                 Traceback (most recent call last)",
      "Cell \u001b[1;32mIn[35], line 2\u001b[0m\n\u001b[0;32m      1\u001b[0m \u001b[38;5;66;03m#  states and their cluster \u001b[39;00m\n\u001b[1;32m----> 2\u001b[0m cluster_2_states \u001b[38;5;241m=\u001b[39m \u001b[43mstate_tobacco_use\u001b[49m[state_tobacco_use[\u001b[38;5;124m'\u001b[39m\u001b[38;5;124mCluster\u001b[39m\u001b[38;5;124m'\u001b[39m] \u001b[38;5;241m==\u001b[39m \u001b[38;5;241m2\u001b[39m][\u001b[38;5;124m'\u001b[39m\u001b[38;5;124mLocationDesc\u001b[39m\u001b[38;5;124m'\u001b[39m]\u001b[38;5;241m.\u001b[39mtolist()\n\u001b[0;32m      4\u001b[0m \u001b[38;5;28mprint\u001b[39m(\u001b[38;5;124m\"\u001b[39m\u001b[38;5;124mStates in Cluster 2:\u001b[39m\u001b[38;5;124m\"\u001b[39m, cluster_2_states)\n",
      "\u001b[1;31mNameError\u001b[0m: name 'state_tobacco_use' is not defined"
     ]
    }
   ],
   "source": [
    "#  states and their cluster \n",
    "cluster_2_states = state_tobacco_use[state_tobacco_use['Cluster'] == 2]['LocationDesc'].tolist()\n",
    "\n",
    "print(\"States in Cluster 2:\", cluster_2_states)\n"
   ]
  },
  {
   "cell_type": "markdown",
   "id": "6750051a",
   "metadata": {},
   "source": [
    "# Printing the list of states in Cluster 0"
   ]
  },
  {
   "cell_type": "code",
   "execution_count": null,
   "id": "c69f1a11",
   "metadata": {
    "scrolled": true
   },
   "outputs": [
    {
     "ename": "NameError",
     "evalue": "name 'state_tobacco_use' is not defined",
     "output_type": "error",
     "traceback": [
      "\u001b[1;31m---------------------------------------------------------------------------\u001b[0m",
      "\u001b[1;31mNameError\u001b[0m                                 Traceback (most recent call last)",
      "Cell \u001b[1;32mIn[36], line 2\u001b[0m\n\u001b[0;32m      1\u001b[0m \u001b[38;5;66;03m#  states and their cluster assignments\u001b[39;00m\n\u001b[1;32m----> 2\u001b[0m cluster_0_states \u001b[38;5;241m=\u001b[39m \u001b[43mstate_tobacco_use\u001b[49m[state_tobacco_use[\u001b[38;5;124m'\u001b[39m\u001b[38;5;124mCluster\u001b[39m\u001b[38;5;124m'\u001b[39m] \u001b[38;5;241m==\u001b[39m \u001b[38;5;241m0\u001b[39m][\u001b[38;5;124m'\u001b[39m\u001b[38;5;124mLocationDesc\u001b[39m\u001b[38;5;124m'\u001b[39m]\u001b[38;5;241m.\u001b[39mtolist()\n\u001b[0;32m      4\u001b[0m \u001b[38;5;28mprint\u001b[39m(\u001b[38;5;124m\"\u001b[39m\u001b[38;5;124mStates in Cluster 0:\u001b[39m\u001b[38;5;124m\"\u001b[39m, cluster_0_states)\n",
      "\u001b[1;31mNameError\u001b[0m: name 'state_tobacco_use' is not defined"
     ]
    }
   ],
   "source": [
    "#  states and their cluster assignments\n",
    "cluster_0_states = state_tobacco_use[state_tobacco_use['Cluster'] == 0]['LocationDesc'].tolist()\n",
    "\n",
    "print(\"States in Cluster 0:\", cluster_0_states)\n"
   ]
  },
  {
   "cell_type": "markdown",
   "id": "1ed40c6f",
   "metadata": {},
   "source": [
    "Cluster 1: This cluster is characterized by states with lower average youth tobacco use rates (around 18.09%). It includes a diverse group of states such as Arizona (AZ), California (CA), and Connecticut (CT), suggesting that certain regions of the U.S. have been more successful in keeping youth tobacco use rates low. This could be due to effective public health policies, cultural factors, or successful prevention programs targeting youth.\n",
    "\n",
    "\n",
    "Cluster 0: An outlier cluster, primarily due to its representation of the United States as a whole with an average usage rate significantly higher (60.53%) than individual states. This cluster appears to be an anomaly and indicates that national averages can obscure the variability in youth tobacco use across states.\n",
    "\n",
    "\n",
    "Cluster 2: This cluster includes states with higher average youth tobacco use rates (around 25.65%) compared to Cluster 0. States such as Alabama (AL), Arkansas (AR), and Colorado (CO) fall into this category. The higher rates in these states suggest that they might face more significant public health challenges related to youth tobacco use, possibly requiring targeted interventions and policies to reduce consumptio"
   ]
  },
  {
   "cell_type": "markdown",
   "id": "9682793e",
   "metadata": {},
   "source": [
    "Saving files to visulaize it."
   ]
  },
  {
   "cell_type": "code",
   "execution_count": null,
   "id": "9529130e",
   "metadata": {},
   "outputs": [
    {
     "ename": "NameError",
     "evalue": "name 'state_tobacco_use' is not defined",
     "output_type": "error",
     "traceback": [
      "\u001b[1;31m---------------------------------------------------------------------------\u001b[0m",
      "\u001b[1;31mNameError\u001b[0m                                 Traceback (most recent call last)",
      "Cell \u001b[1;32mIn[37], line 2\u001b[0m\n\u001b[0;32m      1\u001b[0m \u001b[38;5;66;03m# Filter for Cluster 1 and Cluster 2\u001b[39;00m\n\u001b[1;32m----> 2\u001b[0m clusters_1_and_2 \u001b[38;5;241m=\u001b[39m \u001b[43mstate_tobacco_use\u001b[49m[state_tobacco_use[\u001b[38;5;124m'\u001b[39m\u001b[38;5;124mCluster\u001b[39m\u001b[38;5;124m'\u001b[39m]\u001b[38;5;241m.\u001b[39misin([\u001b[38;5;241m0\u001b[39m,\u001b[38;5;241m1\u001b[39m, \u001b[38;5;241m2\u001b[39m])]\n\u001b[0;32m      4\u001b[0m clusters_1_and_2 \u001b[38;5;241m=\u001b[39m clusters_1_and_2[[\u001b[38;5;124m'\u001b[39m\u001b[38;5;124mLocationDesc\u001b[39m\u001b[38;5;124m'\u001b[39m, \u001b[38;5;124m'\u001b[39m\u001b[38;5;124mCluster\u001b[39m\u001b[38;5;124m'\u001b[39m]]\n",
      "\u001b[1;31mNameError\u001b[0m: name 'state_tobacco_use' is not defined"
     ]
    }
   ],
   "source": [
    "# Filter for Cluster 1 and Cluster 2\n",
    "clusters_1_and_2 = state_tobacco_use[state_tobacco_use['Cluster'].isin([0,1, 2])]\n",
    "\n",
    "clusters_1_and_2 = clusters_1_and_2[['LocationDesc', 'Cluster']]\n",
    "\n",
    "\n"
   ]
  },
  {
   "cell_type": "code",
   "execution_count": null,
   "id": "cae48c07",
   "metadata": {},
   "outputs": [
    {
     "ename": "NameError",
     "evalue": "name 'clusters_1_and_2' is not defined",
     "output_type": "error",
     "traceback": [
      "\u001b[1;31m---------------------------------------------------------------------------\u001b[0m",
      "\u001b[1;31mNameError\u001b[0m                                 Traceback (most recent call last)",
      "Cell \u001b[1;32mIn[38], line 1\u001b[0m\n\u001b[1;32m----> 1\u001b[0m \u001b[43mclusters_1_and_2\u001b[49m\u001b[38;5;241m.\u001b[39mto_csv(\u001b[38;5;124m'\u001b[39m\u001b[38;5;124mstates_clusters_1_and_2.csv\u001b[39m\u001b[38;5;124m'\u001b[39m, index\u001b[38;5;241m=\u001b[39m\u001b[38;5;28;01mFalse\u001b[39;00m)\n",
      "\u001b[1;31mNameError\u001b[0m: name 'clusters_1_and_2' is not defined"
     ]
    }
   ],
   "source": [
    "clusters_1_and_2.to_csv('states_clusters_1_and_2.csv', index=False)\n"
   ]
  },
  {
   "cell_type": "code",
   "execution_count": null,
   "id": "173da8af",
   "metadata": {},
   "outputs": [
    {
     "ename": "NameError",
     "evalue": "name 'clusters_1_and_2' is not defined",
     "output_type": "error",
     "traceback": [
      "\u001b[1;31m---------------------------------------------------------------------------\u001b[0m",
      "\u001b[1;31mNameError\u001b[0m                                 Traceback (most recent call last)",
      "Cell \u001b[1;32mIn[39], line 9\u001b[0m\n\u001b[0;32m      6\u001b[0m     os\u001b[38;5;241m.\u001b[39mmakedirs(directory)\n\u001b[0;32m      8\u001b[0m \u001b[38;5;66;03m# Now saving the file to this directory\u001b[39;00m\n\u001b[1;32m----> 9\u001b[0m \u001b[43mclusters_1_and_2\u001b[49m\u001b[38;5;241m.\u001b[39mto_csv(\u001b[38;5;124mf\u001b[39m\u001b[38;5;124m'\u001b[39m\u001b[38;5;132;01m{\u001b[39;00mdirectory\u001b[38;5;132;01m}\u001b[39;00m\u001b[38;5;124m/states_clusters_1_and_2.csv\u001b[39m\u001b[38;5;124m'\u001b[39m, index\u001b[38;5;241m=\u001b[39m\u001b[38;5;28;01mFalse\u001b[39;00m)\n",
      "\u001b[1;31mNameError\u001b[0m: name 'clusters_1_and_2' is not defined"
     ]
    }
   ],
   "source": [
    "import os\n",
    "\n",
    "\n",
    "directory = \"./data\"\n",
    "if not os.path.exists(directory):\n",
    "    os.makedirs(directory)\n",
    "\n",
    "# Now saving the file to this directory\n",
    "clusters_1_and_2.to_csv(f'{directory}/states_clusters_1_and_2.csv', index=False)\n"
   ]
  },
  {
   "cell_type": "markdown",
   "id": "9cb8c977",
   "metadata": {},
   "source": []
  },
  {
   "cell_type": "markdown",
   "id": "3980105b",
   "metadata": {},
   "source": [
    "## forecasting average use of tobacco by year for next 3 series"
   ]
  },
  {
   "cell_type": "markdown",
   "id": "ca1f88be",
   "metadata": {},
   "source": [
    "# Recalculate the average use of tobacco by year "
   ]
  },
  {
   "cell_type": "code",
   "execution_count": null,
   "id": "53b078d3",
   "metadata": {},
   "outputs": [
    {
     "data": {
      "text/html": [
       "<div>\n",
       "<style scoped>\n",
       "    .dataframe tbody tr th:only-of-type {\n",
       "        vertical-align: middle;\n",
       "    }\n",
       "\n",
       "    .dataframe tbody tr th {\n",
       "        vertical-align: top;\n",
       "    }\n",
       "\n",
       "    .dataframe thead th {\n",
       "        text-align: right;\n",
       "    }\n",
       "</style>\n",
       "<table border=\"1\" class=\"dataframe\">\n",
       "  <thead>\n",
       "    <tr style=\"text-align: right;\">\n",
       "      <th></th>\n",
       "      <th>YEAR</th>\n",
       "      <th>Data_Value</th>\n",
       "    </tr>\n",
       "  </thead>\n",
       "  <tbody>\n",
       "    <tr>\n",
       "      <th>0</th>\n",
       "      <td>1999</td>\n",
       "      <td>26.072849</td>\n",
       "    </tr>\n",
       "    <tr>\n",
       "      <th>1</th>\n",
       "      <td>2000</td>\n",
       "      <td>26.714642</td>\n",
       "    </tr>\n",
       "    <tr>\n",
       "      <th>2</th>\n",
       "      <td>2001</td>\n",
       "      <td>23.370000</td>\n",
       "    </tr>\n",
       "    <tr>\n",
       "      <th>3</th>\n",
       "      <td>2002</td>\n",
       "      <td>25.193280</td>\n",
       "    </tr>\n",
       "    <tr>\n",
       "      <th>4</th>\n",
       "      <td>2003</td>\n",
       "      <td>21.267216</td>\n",
       "    </tr>\n",
       "    <tr>\n",
       "      <th>5</th>\n",
       "      <td>2004</td>\n",
       "      <td>20.704131</td>\n",
       "    </tr>\n",
       "    <tr>\n",
       "      <th>6</th>\n",
       "      <td>2005</td>\n",
       "      <td>21.792195</td>\n",
       "    </tr>\n",
       "    <tr>\n",
       "      <th>7</th>\n",
       "      <td>2006</td>\n",
       "      <td>21.762874</td>\n",
       "    </tr>\n",
       "    <tr>\n",
       "      <th>8</th>\n",
       "      <td>2007</td>\n",
       "      <td>20.013158</td>\n",
       "    </tr>\n",
       "    <tr>\n",
       "      <th>9</th>\n",
       "      <td>2008</td>\n",
       "      <td>18.231670</td>\n",
       "    </tr>\n",
       "    <tr>\n",
       "      <th>10</th>\n",
       "      <td>2009</td>\n",
       "      <td>18.254587</td>\n",
       "    </tr>\n",
       "    <tr>\n",
       "      <th>11</th>\n",
       "      <td>2010</td>\n",
       "      <td>17.780706</td>\n",
       "    </tr>\n",
       "    <tr>\n",
       "      <th>12</th>\n",
       "      <td>2011</td>\n",
       "      <td>17.761368</td>\n",
       "    </tr>\n",
       "    <tr>\n",
       "      <th>13</th>\n",
       "      <td>2012</td>\n",
       "      <td>15.528251</td>\n",
       "    </tr>\n",
       "    <tr>\n",
       "      <th>14</th>\n",
       "      <td>2013</td>\n",
       "      <td>16.684152</td>\n",
       "    </tr>\n",
       "    <tr>\n",
       "      <th>15</th>\n",
       "      <td>2014</td>\n",
       "      <td>15.677409</td>\n",
       "    </tr>\n",
       "    <tr>\n",
       "      <th>16</th>\n",
       "      <td>2015</td>\n",
       "      <td>14.765810</td>\n",
       "    </tr>\n",
       "    <tr>\n",
       "      <th>17</th>\n",
       "      <td>2016</td>\n",
       "      <td>12.510811</td>\n",
       "    </tr>\n",
       "    <tr>\n",
       "      <th>18</th>\n",
       "      <td>2017</td>\n",
       "      <td>11.799591</td>\n",
       "    </tr>\n",
       "  </tbody>\n",
       "</table>\n",
       "</div>"
      ],
      "text/plain": [
       "    YEAR  Data_Value\n",
       "0   1999   26.072849\n",
       "1   2000   26.714642\n",
       "2   2001   23.370000\n",
       "3   2002   25.193280\n",
       "4   2003   21.267216\n",
       "5   2004   20.704131\n",
       "6   2005   21.792195\n",
       "7   2006   21.762874\n",
       "8   2007   20.013158\n",
       "9   2008   18.231670\n",
       "10  2009   18.254587\n",
       "11  2010   17.780706\n",
       "12  2011   17.761368\n",
       "13  2012   15.528251\n",
       "14  2013   16.684152\n",
       "15  2014   15.677409\n",
       "16  2015   14.765810\n",
       "17  2016   12.510811\n",
       "18  2017   11.799591"
      ]
     },
     "execution_count": 40,
     "metadata": {},
     "output_type": "execute_result"
    }
   ],
   "source": [
    "average_use_by_year = yts_data.groupby('YEAR')['Data_Value'].mean().reset_index()\n",
    "average_use_by_year"
   ]
  },
  {
   "cell_type": "markdown",
   "id": "0f9d8d2b",
   "metadata": {},
   "source": [
    "Augmented Dickey-Fuller test"
   ]
  },
  {
   "cell_type": "code",
   "execution_count": null,
   "id": "663f5198",
   "metadata": {},
   "outputs": [
    {
     "data": {
      "text/plain": [
       "(-0.7666093922896351, 0.8287341190313027)"
      ]
     },
     "execution_count": 41,
     "metadata": {},
     "output_type": "execute_result"
    }
   ],
   "source": [
    "from statsmodels.tsa.stattools import adfuller\n",
    "\n",
    "# Perform the Augmented Dickey-Fuller test  to check stationarity\n",
    "adf_test_result= adfuller(average_use_by_year['Data_Value'])\n",
    "\n",
    "# Extract the test statistic and p-value again\n",
    "adf_statistic, p_value = adf_test_result[0], adf_test_result[1]\n",
    "\n",
    "adf_statistic, p_value\n"
   ]
  },
  {
   "cell_type": "markdown",
   "id": "735ce5ab",
   "metadata": {},
   "source": [
    "\n",
    "The  results from the Augmented Dickey-Fuller test, with a test statistic of approximately -0.77 and a p-value of approximately 0.83,  indicate that the time series is not stationary. The p-value remains significantly above the 0.05 threshold, suggesting that the null hypothesis of a unit root cannot be rejected. This confirms that the series likely requires differencing to make it stationary"
   ]
  },
  {
   "cell_type": "code",
   "execution_count": null,
   "id": "b27aed4b",
   "metadata": {},
   "outputs": [],
   "source": [
    "# Apply a first difference to the series\n",
    "average_use_by_year['Data_Value_Diff'] = average_use_by_year['Data_Value'].diff()\n",
    "\n",
    "# Perform the Augmented Dickey-Fuller test on the differenced series\n",
    "diff_adf_test_result = adfuller(average_use_by_year['Data_Value_Diff'].dropna())  # Dropping NA values generated by differencing\n",
    "\n",
    "\n"
   ]
  },
  {
   "cell_type": "code",
   "execution_count": null,
   "id": "e35c0b6c",
   "metadata": {},
   "outputs": [
    {
     "data": {
      "text/plain": [
       "(-2.257511242998052, 0.18603766041504483)"
      ]
     },
     "execution_count": 43,
     "metadata": {},
     "output_type": "execute_result"
    }
   ],
   "source": [
    "#rechecking for stationary\n",
    "# Extract the test statistic and p-value for the differenced series\n",
    "diff_adf_statistic, diff_p_value = diff_adf_test_result[0], diff_adf_test_result[1]\n",
    "\n",
    "diff_adf_statistic, diff_p_value"
   ]
  },
  {
   "cell_type": "code",
   "execution_count": null,
   "id": "9950ad42",
   "metadata": {},
   "outputs": [],
   "source": [
    "# Fitting the ARIMA(1,1,1) model based on the stationarity result and initial parameter selection\n",
    "model_arima = ARIMA(average_use_by_year['Data_Value'], order=(1, 1, 1))\n",
    "model_fit = model_arima.fit()\n",
    "\n",
    "# Forecasting the next 3 years with the ARIMA(1,2,1) model\n",
    "forecast = model_fit.forecast(steps=3)"
   ]
  },
  {
   "cell_type": "code",
   "execution_count": null,
   "id": "51ed3eb4",
   "metadata": {},
   "outputs": [
    {
     "data": {
      "text/html": [
       "<div>\n",
       "<style scoped>\n",
       "    .dataframe tbody tr th:only-of-type {\n",
       "        vertical-align: middle;\n",
       "    }\n",
       "\n",
       "    .dataframe tbody tr th {\n",
       "        vertical-align: top;\n",
       "    }\n",
       "\n",
       "    .dataframe thead th {\n",
       "        text-align: right;\n",
       "    }\n",
       "</style>\n",
       "<table border=\"1\" class=\"dataframe\">\n",
       "  <thead>\n",
       "    <tr style=\"text-align: right;\">\n",
       "      <th></th>\n",
       "      <th>Year</th>\n",
       "      <th>Forecasted Average Tobacco Use (%)</th>\n",
       "    </tr>\n",
       "  </thead>\n",
       "  <tbody>\n",
       "    <tr>\n",
       "      <th>0</th>\n",
       "      <td>2018</td>\n",
       "      <td>11.668966</td>\n",
       "    </tr>\n",
       "    <tr>\n",
       "      <th>1</th>\n",
       "      <td>2019</td>\n",
       "      <td>11.766827</td>\n",
       "    </tr>\n",
       "    <tr>\n",
       "      <th>2</th>\n",
       "      <td>2020</td>\n",
       "      <td>11.693512</td>\n",
       "    </tr>\n",
       "  </tbody>\n",
       "</table>\n",
       "</div>"
      ],
      "text/plain": [
       "   Year  Forecasted Average Tobacco Use (%)\n",
       "0  2018                           11.668966\n",
       "1  2019                           11.766827\n",
       "2  2020                           11.693512"
      ]
     },
     "execution_count": 45,
     "metadata": {},
     "output_type": "execute_result"
    }
   ],
   "source": [
    "# Preparing forecast data for visualization\n",
    "forecast_years = [2018, 2019, 2020]\n",
    "forecast_values = forecast.values\n",
    "\n",
    "forecast_df = pd.DataFrame(list(zip(forecast_years, forecast_values)), columns=['Year', 'Forecasted Average Tobacco Use (%)'])\n",
    "\n",
    "# Proceed to visualization\n",
    "forecast_df"
   ]
  },
  {
   "cell_type": "markdown",
   "id": "66d6ce30",
   "metadata": {},
   "source": [
    "## visualizing  the original and predicted avg tobacoo use rates"
   ]
  },
  {
   "cell_type": "code",
   "execution_count": null,
   "id": "995cbb32",
   "metadata": {},
   "outputs": [],
   "source": [
    "#  DataFrame for forecasted values\n",
    "forecast_years = [2018, 2019, 2020]\n",
    "forecast_values = [11.6689, 11.7668, 11.6935]  #  forecasted values\n",
    "forecast_df = pd.DataFrame({'YEAR': forecast_years, 'Forecasted_Value': forecast_values})\n"
   ]
  },
  {
   "cell_type": "code",
   "execution_count": null,
   "id": "eaef1927",
   "metadata": {},
   "outputs": [],
   "source": [
    "# Convert YEAR in historical data to the same format as in forecast_df for a consistent merge/join\n",
    "average_use_by_year['YEAR'] = average_use_by_year['YEAR'].astype(int)\n",
    "\n",
    "# Merge or concatenate dataframes\n",
    "combined_data = pd.concat([average_use_by_year[['YEAR', 'Data_Value']], forecast_df.rename(columns={'Forecasted_Value': 'Data_Value'})])\n"
   ]
  },
  {
   "cell_type": "code",
   "execution_count": null,
   "id": "34276440",
   "metadata": {},
   "outputs": [
    {
     "data": {
      "image/png": "[encoded data removed]",
      "text/plain": [
       "<Figure size 1000x600 with 1 Axes>"
      ]
     },
     "metadata": {},
     "output_type": "display_data"
    }
   ],
   "source": [
    "import matplotlib.pyplot as plt\n",
    "\n",
    "plt.figure(figsize=(10, 6))\n",
    "# Plot historical data\n",
    "plt.plot(combined_data['YEAR'][:-3], combined_data['Data_Value'][:-3], label='Historical', marker='o')\n",
    "# Plot forecasted data\n",
    "plt.plot(combined_data['YEAR'][-3:], combined_data['Data_Value'][-3:], label='Forecasted', marker='x', linestyle='--')\n",
    "\n",
    "plt.title('Historical vs Forecasted Tobacco Use')\n",
    "plt.xlabel('Year')\n",
    "plt.ylabel('Average Tobacco Use (%)')\n",
    "plt.legend()\n",
    "plt.grid(True)\n",
    "plt.xticks(combined_data['YEAR'], rotation=45)\n",
    "plt.tight_layout()\n",
    "plt.show()\n"
   ]
  },
  {
   "cell_type": "markdown",
   "id": "d83e3e8c",
   "metadata": {},
   "source": [
    "Trend: The forecast follows the overall downward trend observed in the historical data, which could suggest that existing interventions or social trends that have been reducing tobacco use are expected to continue having an effect, \n",
    "\n",
    "Policy Implications: If this trend is considered alongside policy or public health initiatives, it may suggest that ongoing efforts should be maintained or enhanced to continue the downward trend in youth tobacco use."
   ]
  },
  {
   "cell_type": "markdown",
   "id": "227f3363",
   "metadata": {},
   "source": [
    "## Linear regression"
   ]
  },
  {
   "cell_type": "code",
   "execution_count": null,
   "id": "5bfc2ee1",
   "metadata": {},
   "outputs": [],
   "source": []
  },
  {
   "cell_type": "code",
   "execution_count": null,
   "id": "9e5a533b",
   "metadata": {},
   "outputs": [],
   "source": []
  },
  {
   "cell_type": "code",
   "execution_count": null,
   "id": "67b018ed",
   "metadata": {},
   "outputs": [],
   "source": []
  },
  {
   "cell_type": "code",
   "execution_count": null,
   "id": "8aa7d7dd",
   "metadata": {},
   "outputs": [],
   "source": []
  },
  {
   "cell_type": "code",
   "execution_count": null,
   "id": "450ffa23",
   "metadata": {},
   "outputs": [],
   "source": []
  },
  {
   "cell_type": "markdown",
   "id": "cf6fc953",
   "metadata": {},
   "source": []
  },
  {
   "cell_type": "code",
   "execution_count": null,
   "id": "68d74cf6",
   "metadata": {},
   "outputs": [],
   "source": []
  }
 ],
 "metadata": {
  "kernelspec": {
   "display_name": "base",
   "language": "python",
   "name": "python3"
  },
  "language_info": {
   "codemirror_mode": {
    "name": "ipython",
    "version": 3
   },
   "file_extension": ".py",
   "mimetype": "text/x-python",
   "name": "python",
   "nbconvert_exporter": "python",
   "pygments_lexer": "ipython3",
   "version": "3.12.7"
  }
 },
 "nbformat": 4,
 "nbformat_minor": 5
}
