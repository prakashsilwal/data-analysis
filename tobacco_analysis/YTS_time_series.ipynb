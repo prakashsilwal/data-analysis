{
 "cells": [
  {
   "cell_type": "code",
   "execution_count": 1,
   "id": "3a69b24e",
   "metadata": {},
   "outputs": [],
   "source": [
    "import numpy as np\n",
    "import pandas as pd\n",
    "import matplotlib.pyplot as plt\n",
    "import seaborn as sns\n",
    "from sklearn.preprocessing import MinMaxScaler\n",
    "from sklearn.preprocessing import StandardScaler, OneHotEncoder\n",
    "from sklearn.cluster import KMeans\n",
    "from sklearn.compose import ColumnTransformer\n",
    "import matplotlib.pyplot as plt\n",
    "# Load the dataset\n",
    "file_path = 'Youth_Tobacco.csv'\n",
    "yts_data = pd.read_csv(file_path)\n",
    "\n"
   ]
  },
  {
   "cell_type": "code",
   "execution_count": 2,
   "id": "abd7012b",
   "metadata": {},
   "outputs": [
    {
     "name": "stdout",
     "output_type": "stream",
     "text": [
      "First few rows of the dataset:\n",
      "   YEAR LocationAbbr   LocationDesc                  TopicType  \\\n",
      "0  2004           OH           Ohio  Tobacco Use – Survey Data   \n",
      "1  2008           AL        Alabama  Tobacco Use – Survey Data   \n",
      "2  2015           WV  West Virginia  Tobacco Use – Survey Data   \n",
      "3  2005           IL       Illinois  Tobacco Use – Survey Data   \n",
      "4  2005           CT    Connecticut  Tobacco Use – Survey Data   \n",
      "\n",
      "                       TopicDesc     MeasureDesc DataSource  Response  \\\n",
      "0          Cigarette Use (Youth)  Smoking Status        YTS      Ever   \n",
      "1          Cigarette Use (Youth)  Smoking Status        YTS      Ever   \n",
      "2  Smokeless Tobacco Use (Youth)     User Status        YTS  Frequent   \n",
      "3          Cigarette Use (Youth)  Smoking Status        YTS      Ever   \n",
      "4  Smokeless Tobacco Use (Youth)     User Status        YTS      Ever   \n",
      "\n",
      "  Data_Value_Unit Data_Value_Type  ...                    GeoLocation  \\\n",
      "0               %      Percentage  ...  (40.060210141, -82.404260056)   \n",
      "1               %      Percentage  ...  (32.840571122, -86.631860762)   \n",
      "2               %      Percentage  ...  (38.665510202, -80.712640135)   \n",
      "3               %      Percentage  ...  (40.485010283, -88.997710178)   \n",
      "4               %      Percentage  ...   (41.56266102, -72.649840952)   \n",
      "\n",
      "  TopicTypeId TopicId  MeasureId  StratificationID1  StratificationID2  \\\n",
      "0         BEH  106BEH     166SSA               1GEN               8AGE   \n",
      "1         BEH  106BEH     166SSA               3GEN               8AGE   \n",
      "2         BEH  151BEH     169USS               2GEN               8AGE   \n",
      "3         BEH  106BEH     166SSA               1GEN               8AGE   \n",
      "4         BEH  151BEH     169USS               2GEN               8AGE   \n",
      "\n",
      "   StratificationID3 StratificationID4 SubMeasureID DisplayOrder  \n",
      "0               6RAC              1EDU        YTS08            8  \n",
      "1               6RAC              2EDU        YTS08            8  \n",
      "2               6RAC              2EDU        YTS12           12  \n",
      "3               6RAC              1EDU        YTS08            8  \n",
      "4               6RAC              2EDU        YTS11           11  \n",
      "\n",
      "[5 rows x 31 columns]\n"
     ]
    }
   ],
   "source": [
    "# Display the first few rows of the dataset\n",
    "print(\"First few rows of the dataset:\")\n",
    "print(yts_data.head())"
   ]
  },
  {
   "cell_type": "code",
   "execution_count": 3,
   "id": "eaab448d",
   "metadata": {},
   "outputs": [
    {
     "data": {
      "text/plain": [
       "(10600, 31)"
      ]
     },
     "execution_count": 3,
     "metadata": {},
     "output_type": "execute_result"
    }
   ],
   "source": [
    "#checking shape\n",
    "yts_data.shape"
   ]
  },
  {
   "cell_type": "code",
   "execution_count": 4,
   "id": "374194d0",
   "metadata": {},
   "outputs": [
    {
     "data": {
      "text/plain": [
       "YEAR                              0\n",
       "LocationAbbr                      0\n",
       "LocationDesc                      0\n",
       "TopicType                         0\n",
       "TopicDesc                         0\n",
       "MeasureDesc                       0\n",
       "DataSource                        0\n",
       "Response                       2410\n",
       "Data_Value_Unit                   0\n",
       "Data_Value_Type                   0\n",
       "Data_Value                      520\n",
       "Data_Value_Footnote_Symbol    10083\n",
       "Data_Value_Footnote           10083\n",
       "Data_Value_Std_Err              520\n",
       "Low_Confidence_Limit            517\n",
       "High_Confidence_Limit           520\n",
       "Sample_Size                     520\n",
       "Gender                            0\n",
       "Race                              0\n",
       "Age                               0\n",
       "Education                         0\n",
       "GeoLocation                       4\n",
       "TopicTypeId                       0\n",
       "TopicId                           0\n",
       "MeasureId                         0\n",
       "StratificationID1                 0\n",
       "StratificationID2                 0\n",
       "StratificationID3                 0\n",
       "StratificationID4                 0\n",
       "SubMeasureID                      0\n",
       "DisplayOrder                      0\n",
       "dtype: int64"
      ]
     },
     "execution_count": 4,
     "metadata": {},
     "output_type": "execute_result"
    }
   ],
   "source": [
    "# Check for missing values\n",
    "missing_values = yts_data.isnull().sum()\n",
    "missing_values\n"
   ]
  },
  {
   "cell_type": "code",
   "execution_count": 5,
   "id": "2bc44eb7",
   "metadata": {},
   "outputs": [
    {
     "name": "stdout",
     "output_type": "stream",
     "text": [
      "(10076, 31)\n",
      "YEAR                              0\n",
      "LocationAbbr                      0\n",
      "LocationDesc                      0\n",
      "TopicType                         0\n",
      "TopicDesc                         0\n",
      "MeasureDesc                       0\n",
      "DataSource                        0\n",
      "Response                       1889\n",
      "Data_Value_Unit                   0\n",
      "Data_Value_Type                   0\n",
      "Data_Value                        0\n",
      "Data_Value_Footnote_Symbol    10076\n",
      "Data_Value_Footnote           10076\n",
      "Data_Value_Std_Err                0\n",
      "Low_Confidence_Limit              0\n",
      "High_Confidence_Limit             0\n",
      "Sample_Size                       0\n",
      "Gender                            0\n",
      "Race                              0\n",
      "Age                               0\n",
      "Education                         0\n",
      "GeoLocation                       0\n",
      "TopicTypeId                       0\n",
      "TopicId                           0\n",
      "MeasureId                         0\n",
      "StratificationID1                 0\n",
      "StratificationID2                 0\n",
      "StratificationID3                 0\n",
      "StratificationID4                 0\n",
      "SubMeasureID                      0\n",
      "DisplayOrder                      0\n",
      "dtype: int64\n"
     ]
    }
   ],
   "source": [
    "# Columns to check for missing values\n",
    "columns_to_clean = ['GeoLocation', 'Data_Value', 'Data_Value_Std_Err', 'Low_Confidence_Limit', 'High_Confidence_Limit', 'Sample_Size']\n",
    "\n",
    "# Remove rows   have missing values\n",
    "yts_data = yts_data.dropna(subset=columns_to_clean)\n",
    "\n",
    "# Verify the cleaning by checking the shape or the sum of missing values\n",
    "print(yts_data.shape)\n",
    "print(yts_data.isnull().sum())\n"
   ]
  },
  {
   "cell_type": "code",
   "execution_count": 6,
   "id": "66c03b53",
   "metadata": {},
   "outputs": [
    {
     "name": "stdout",
     "output_type": "stream",
     "text": [
      "Index(['YEAR', 'LocationAbbr', 'LocationDesc', 'TopicType', 'TopicDesc',\n",
      "       'MeasureDesc', 'DataSource', 'Response', 'Data_Value_Unit',\n",
      "       'Data_Value_Type', 'Data_Value', 'Data_Value_Std_Err',\n",
      "       'Low_Confidence_Limit', 'High_Confidence_Limit', 'Sample_Size',\n",
      "       'Gender', 'Race', 'Age', 'Education', 'GeoLocation', 'TopicTypeId',\n",
      "       'TopicId', 'MeasureId', 'StratificationID1', 'StratificationID2',\n",
      "       'StratificationID3', 'StratificationID4', 'SubMeasureID',\n",
      "       'DisplayOrder'],\n",
      "      dtype='object')\n"
     ]
    }
   ],
   "source": [
    "#dropping those two empty features\n",
    "yts_data = yts_data.drop(columns=['Data_Value_Footnote_Symbol', 'Data_Value_Footnote'])\n",
    "\n",
    "# Verify the columns are dropped\n",
    "print(yts_data.columns)\n"
   ]
  },
  {
   "cell_type": "code",
   "execution_count": 7,
   "id": "46f8bfe2",
   "metadata": {},
   "outputs": [
    {
     "data": {
      "text/plain": [
       "YEAR                        0\n",
       "LocationAbbr                0\n",
       "LocationDesc                0\n",
       "TopicType                   0\n",
       "TopicDesc                   0\n",
       "MeasureDesc                 0\n",
       "DataSource                  0\n",
       "Response                 1889\n",
       "Data_Value_Unit             0\n",
       "Data_Value_Type             0\n",
       "Data_Value                  0\n",
       "Data_Value_Std_Err          0\n",
       "Low_Confidence_Limit        0\n",
       "High_Confidence_Limit       0\n",
       "Sample_Size                 0\n",
       "Gender                      0\n",
       "Race                        0\n",
       "Age                         0\n",
       "Education                   0\n",
       "GeoLocation                 0\n",
       "TopicTypeId                 0\n",
       "TopicId                     0\n",
       "MeasureId                   0\n",
       "StratificationID1           0\n",
       "StratificationID2           0\n",
       "StratificationID3           0\n",
       "StratificationID4           0\n",
       "SubMeasureID                0\n",
       "DisplayOrder                0\n",
       "dtype: int64"
      ]
     },
     "execution_count": 7,
     "metadata": {},
     "output_type": "execute_result"
    }
   ],
   "source": [
    "# Check for missing values\n",
    "missing_values = yts_data.isnull().sum()\n",
    "missing_values"
   ]
  },
  {
   "cell_type": "code",
   "execution_count": 9,
   "id": "448b417a",
   "metadata": {},
   "outputs": [
    {
     "data": {
      "text/plain": [
       "YEAR                     0\n",
       "LocationAbbr             0\n",
       "LocationDesc             0\n",
       "TopicType                0\n",
       "TopicDesc                0\n",
       "MeasureDesc              0\n",
       "DataSource               0\n",
       "Response                 0\n",
       "Data_Value_Unit          0\n",
       "Data_Value_Type          0\n",
       "Data_Value               0\n",
       "Data_Value_Std_Err       0\n",
       "Low_Confidence_Limit     0\n",
       "High_Confidence_Limit    0\n",
       "Sample_Size              0\n",
       "Gender                   0\n",
       "Race                     0\n",
       "Age                      0\n",
       "Education                0\n",
       "GeoLocation              0\n",
       "TopicTypeId              0\n",
       "TopicId                  0\n",
       "MeasureId                0\n",
       "StratificationID1        0\n",
       "StratificationID2        0\n",
       "StratificationID3        0\n",
       "StratificationID4        0\n",
       "SubMeasureID             0\n",
       "DisplayOrder             0\n",
       "dtype: int64"
      ]
     },
     "execution_count": 9,
     "metadata": {},
     "output_type": "execute_result"
    }
   ],
   "source": [
    "# Check for missing values\n",
    "missing_values = yts_data.isnull().sum()\n",
    "missing_values"
   ]
  },
  {
   "cell_type": "code",
   "execution_count": 8,
   "id": "24225105",
   "metadata": {},
   "outputs": [],
   "source": [
    "#filling missing value as unkowns in response feature\n",
    "yts_data['Response'].fillna('Unknown', inplace=True)\n"
   ]
  },
  {
   "cell_type": "code",
   "execution_count": 10,
   "id": "8fef69ac",
   "metadata": {},
   "outputs": [
    {
     "data": {
      "text/plain": [
       "YEAR                     0\n",
       "LocationAbbr             0\n",
       "LocationDesc             0\n",
       "TopicType                0\n",
       "TopicDesc                0\n",
       "MeasureDesc              0\n",
       "DataSource               0\n",
       "Response                 0\n",
       "Data_Value_Unit          0\n",
       "Data_Value_Type          0\n",
       "Data_Value               0\n",
       "Data_Value_Std_Err       0\n",
       "Low_Confidence_Limit     0\n",
       "High_Confidence_Limit    0\n",
       "Sample_Size              0\n",
       "Gender                   0\n",
       "Race                     0\n",
       "Age                      0\n",
       "Education                0\n",
       "GeoLocation              0\n",
       "TopicTypeId              0\n",
       "TopicId                  0\n",
       "MeasureId                0\n",
       "StratificationID1        0\n",
       "StratificationID2        0\n",
       "StratificationID3        0\n",
       "StratificationID4        0\n",
       "SubMeasureID             0\n",
       "DisplayOrder             0\n",
       "dtype: int64"
      ]
     },
     "execution_count": 10,
     "metadata": {},
     "output_type": "execute_result"
    }
   ],
   "source": [
    "# Check for missing values\n",
    "missing_values = yts_data.isnull().sum()\n",
    "missing_values"
   ]
  },
  {
   "cell_type": "code",
   "execution_count": 11,
   "id": "13c87b95",
   "metadata": {},
   "outputs": [
    {
     "data": {
      "text/plain": [
       "0"
      ]
     },
     "execution_count": 11,
     "metadata": {},
     "output_type": "execute_result"
    }
   ],
   "source": [
    "# Check for duplicate rows\n",
    "duplicates = yts_data.duplicated().sum()\n",
    "duplicates"
   ]
  },
  {
   "cell_type": "code",
   "execution_count": 13,
   "id": "d1828035",
   "metadata": {},
   "outputs": [
    {
     "name": "stdout",
     "output_type": "stream",
     "text": [
      "<class 'pandas.core.frame.DataFrame'>\n",
      "Int64Index: 10076 entries, 0 to 10599\n",
      "Data columns (total 29 columns):\n",
      " #   Column                 Non-Null Count  Dtype  \n",
      "---  ------                 --------------  -----  \n",
      " 0   YEAR                   10076 non-null  int64  \n",
      " 1   LocationAbbr           10076 non-null  object \n",
      " 2   LocationDesc           10076 non-null  object \n",
      " 3   TopicType              10076 non-null  object \n",
      " 4   TopicDesc              10076 non-null  object \n",
      " 5   MeasureDesc            10076 non-null  object \n",
      " 6   DataSource             10076 non-null  object \n",
      " 7   Response               10076 non-null  object \n",
      " 8   Data_Value_Unit        10076 non-null  object \n",
      " 9   Data_Value_Type        10076 non-null  object \n",
      " 10  Data_Value             10076 non-null  float64\n",
      " 11  Data_Value_Std_Err     10076 non-null  float64\n",
      " 12  Low_Confidence_Limit   10076 non-null  float64\n",
      " 13  High_Confidence_Limit  10076 non-null  float64\n",
      " 14  Sample_Size            10076 non-null  float64\n",
      " 15  Gender                 10076 non-null  object \n",
      " 16  Race                   10076 non-null  object \n",
      " 17  Age                    10076 non-null  object \n",
      " 18  Education              10076 non-null  object \n",
      " 19  GeoLocation            10076 non-null  object \n",
      " 20  TopicTypeId            10076 non-null  object \n",
      " 21  TopicId                10076 non-null  object \n",
      " 22  MeasureId              10076 non-null  object \n",
      " 23  StratificationID1      10076 non-null  object \n",
      " 24  StratificationID2      10076 non-null  object \n",
      " 25  StratificationID3      10076 non-null  object \n",
      " 26  StratificationID4      10076 non-null  object \n",
      " 27  SubMeasureID           10076 non-null  object \n",
      " 28  DisplayOrder           10076 non-null  int64  \n",
      "dtypes: float64(5), int64(2), object(22)\n",
      "memory usage: 2.3+ MB\n"
     ]
    }
   ],
   "source": [
    "# Display the structure of the dataset to understand available columns for aggregation\n",
    "yts_data.info()\n",
    "\n"
   ]
  },
  {
   "cell_type": "markdown",
   "id": "0957eefd",
   "metadata": {},
   "source": [
    "## Summary statistics for numerical columns##"
   ]
  },
  {
   "cell_type": "code",
   "execution_count": 14,
   "id": "7d09e79b",
   "metadata": {},
   "outputs": [
    {
     "data": {
      "text/html": [
       "<div>\n",
       "<style scoped>\n",
       "    .dataframe tbody tr th:only-of-type {\n",
       "        vertical-align: middle;\n",
       "    }\n",
       "\n",
       "    .dataframe tbody tr th {\n",
       "        vertical-align: top;\n",
       "    }\n",
       "\n",
       "    .dataframe thead th {\n",
       "        text-align: right;\n",
       "    }\n",
       "</style>\n",
       "<table border=\"1\" class=\"dataframe\">\n",
       "  <thead>\n",
       "    <tr style=\"text-align: right;\">\n",
       "      <th></th>\n",
       "      <th>YEAR</th>\n",
       "      <th>Data_Value</th>\n",
       "      <th>Data_Value_Std_Err</th>\n",
       "      <th>Low_Confidence_Limit</th>\n",
       "      <th>High_Confidence_Limit</th>\n",
       "      <th>Sample_Size</th>\n",
       "      <th>DisplayOrder</th>\n",
       "    </tr>\n",
       "  </thead>\n",
       "  <tbody>\n",
       "    <tr>\n",
       "      <th>count</th>\n",
       "      <td>10076.000000</td>\n",
       "      <td>10076.000000</td>\n",
       "      <td>10076.000000</td>\n",
       "      <td>10076.000000</td>\n",
       "      <td>10076.000000</td>\n",
       "      <td>10076.000000</td>\n",
       "      <td>10076.000000</td>\n",
       "    </tr>\n",
       "    <tr>\n",
       "      <th>mean</th>\n",
       "      <td>2006.867705</td>\n",
       "      <td>20.319035</td>\n",
       "      <td>1.850973</td>\n",
       "      <td>16.703374</td>\n",
       "      <td>23.943132</td>\n",
       "      <td>1483.832572</td>\n",
       "      <td>8.343092</td>\n",
       "    </tr>\n",
       "    <tr>\n",
       "      <th>std</th>\n",
       "      <td>5.417412</td>\n",
       "      <td>21.153165</td>\n",
       "      <td>1.777582</td>\n",
       "      <td>18.559545</td>\n",
       "      <td>23.967822</td>\n",
       "      <td>2189.891960</td>\n",
       "      <td>2.945307</td>\n",
       "    </tr>\n",
       "    <tr>\n",
       "      <th>min</th>\n",
       "      <td>1999.000000</td>\n",
       "      <td>0.000000</td>\n",
       "      <td>0.000000</td>\n",
       "      <td>0.000000</td>\n",
       "      <td>0.000000</td>\n",
       "      <td>50.000000</td>\n",
       "      <td>1.000000</td>\n",
       "    </tr>\n",
       "    <tr>\n",
       "      <th>25%</th>\n",
       "      <td>2002.000000</td>\n",
       "      <td>3.000000</td>\n",
       "      <td>0.600000</td>\n",
       "      <td>1.700000</td>\n",
       "      <td>4.300000</td>\n",
       "      <td>671.000000</td>\n",
       "      <td>7.000000</td>\n",
       "    </tr>\n",
       "    <tr>\n",
       "      <th>50%</th>\n",
       "      <td>2006.000000</td>\n",
       "      <td>10.500000</td>\n",
       "      <td>1.300000</td>\n",
       "      <td>7.900000</td>\n",
       "      <td>13.200000</td>\n",
       "      <td>1001.500000</td>\n",
       "      <td>9.000000</td>\n",
       "    </tr>\n",
       "    <tr>\n",
       "      <th>75%</th>\n",
       "      <td>2011.000000</td>\n",
       "      <td>36.400000</td>\n",
       "      <td>2.400000</td>\n",
       "      <td>29.600000</td>\n",
       "      <td>42.325000</td>\n",
       "      <td>1642.000000</td>\n",
       "      <td>11.000000</td>\n",
       "    </tr>\n",
       "    <tr>\n",
       "      <th>max</th>\n",
       "      <td>2017.000000</td>\n",
       "      <td>98.000000</td>\n",
       "      <td>16.100000</td>\n",
       "      <td>97.600000</td>\n",
       "      <td>98.400000</td>\n",
       "      <td>36910.000000</td>\n",
       "      <td>12.000000</td>\n",
       "    </tr>\n",
       "  </tbody>\n",
       "</table>\n",
       "</div>"
      ],
      "text/plain": [
       "               YEAR    Data_Value  Data_Value_Std_Err  Low_Confidence_Limit  \\\n",
       "count  10076.000000  10076.000000        10076.000000          10076.000000   \n",
       "mean    2006.867705     20.319035            1.850973             16.703374   \n",
       "std        5.417412     21.153165            1.777582             18.559545   \n",
       "min     1999.000000      0.000000            0.000000              0.000000   \n",
       "25%     2002.000000      3.000000            0.600000              1.700000   \n",
       "50%     2006.000000     10.500000            1.300000              7.900000   \n",
       "75%     2011.000000     36.400000            2.400000             29.600000   \n",
       "max     2017.000000     98.000000           16.100000             97.600000   \n",
       "\n",
       "       High_Confidence_Limit   Sample_Size  DisplayOrder  \n",
       "count           10076.000000  10076.000000  10076.000000  \n",
       "mean               23.943132   1483.832572      8.343092  \n",
       "std                23.967822   2189.891960      2.945307  \n",
       "min                 0.000000     50.000000      1.000000  \n",
       "25%                 4.300000    671.000000      7.000000  \n",
       "50%                13.200000   1001.500000      9.000000  \n",
       "75%                42.325000   1642.000000     11.000000  \n",
       "max                98.400000  36910.000000     12.000000  "
      ]
     },
     "execution_count": 14,
     "metadata": {},
     "output_type": "execute_result"
    }
   ],
   "source": [
    "# Display a summary to understand the numeric distribution,  for the tobacco use rate (Data_Value)\n",
    "yts_data.describe()"
   ]
  },
  {
   "cell_type": "code",
   "execution_count": 15,
   "id": "03f57c8e",
   "metadata": {},
   "outputs": [
    {
     "data": {
      "text/html": [
       "<div>\n",
       "<style scoped>\n",
       "    .dataframe tbody tr th:only-of-type {\n",
       "        vertical-align: middle;\n",
       "    }\n",
       "\n",
       "    .dataframe tbody tr th {\n",
       "        vertical-align: top;\n",
       "    }\n",
       "\n",
       "    .dataframe thead th {\n",
       "        text-align: right;\n",
       "    }\n",
       "</style>\n",
       "<table border=\"1\" class=\"dataframe\">\n",
       "  <thead>\n",
       "    <tr style=\"text-align: right;\">\n",
       "      <th></th>\n",
       "      <th>YEAR</th>\n",
       "      <th>Data_Value</th>\n",
       "    </tr>\n",
       "  </thead>\n",
       "  <tbody>\n",
       "    <tr>\n",
       "      <th>0</th>\n",
       "      <td>1999</td>\n",
       "      <td>26.072849</td>\n",
       "    </tr>\n",
       "    <tr>\n",
       "      <th>1</th>\n",
       "      <td>2000</td>\n",
       "      <td>26.714642</td>\n",
       "    </tr>\n",
       "    <tr>\n",
       "      <th>2</th>\n",
       "      <td>2001</td>\n",
       "      <td>23.370000</td>\n",
       "    </tr>\n",
       "    <tr>\n",
       "      <th>3</th>\n",
       "      <td>2002</td>\n",
       "      <td>25.193280</td>\n",
       "    </tr>\n",
       "    <tr>\n",
       "      <th>4</th>\n",
       "      <td>2003</td>\n",
       "      <td>21.267216</td>\n",
       "    </tr>\n",
       "    <tr>\n",
       "      <th>5</th>\n",
       "      <td>2004</td>\n",
       "      <td>20.704131</td>\n",
       "    </tr>\n",
       "    <tr>\n",
       "      <th>6</th>\n",
       "      <td>2005</td>\n",
       "      <td>21.792195</td>\n",
       "    </tr>\n",
       "    <tr>\n",
       "      <th>7</th>\n",
       "      <td>2006</td>\n",
       "      <td>21.762874</td>\n",
       "    </tr>\n",
       "    <tr>\n",
       "      <th>8</th>\n",
       "      <td>2007</td>\n",
       "      <td>20.013158</td>\n",
       "    </tr>\n",
       "    <tr>\n",
       "      <th>9</th>\n",
       "      <td>2008</td>\n",
       "      <td>18.231670</td>\n",
       "    </tr>\n",
       "    <tr>\n",
       "      <th>10</th>\n",
       "      <td>2009</td>\n",
       "      <td>18.254587</td>\n",
       "    </tr>\n",
       "    <tr>\n",
       "      <th>11</th>\n",
       "      <td>2010</td>\n",
       "      <td>17.780706</td>\n",
       "    </tr>\n",
       "    <tr>\n",
       "      <th>12</th>\n",
       "      <td>2011</td>\n",
       "      <td>17.761368</td>\n",
       "    </tr>\n",
       "    <tr>\n",
       "      <th>13</th>\n",
       "      <td>2012</td>\n",
       "      <td>15.528251</td>\n",
       "    </tr>\n",
       "    <tr>\n",
       "      <th>14</th>\n",
       "      <td>2013</td>\n",
       "      <td>16.684152</td>\n",
       "    </tr>\n",
       "    <tr>\n",
       "      <th>15</th>\n",
       "      <td>2014</td>\n",
       "      <td>15.677409</td>\n",
       "    </tr>\n",
       "    <tr>\n",
       "      <th>16</th>\n",
       "      <td>2015</td>\n",
       "      <td>14.765810</td>\n",
       "    </tr>\n",
       "    <tr>\n",
       "      <th>17</th>\n",
       "      <td>2016</td>\n",
       "      <td>12.510811</td>\n",
       "    </tr>\n",
       "    <tr>\n",
       "      <th>18</th>\n",
       "      <td>2017</td>\n",
       "      <td>11.799591</td>\n",
       "    </tr>\n",
       "  </tbody>\n",
       "</table>\n",
       "</div>"
      ],
      "text/plain": [
       "    YEAR  Data_Value\n",
       "0   1999   26.072849\n",
       "1   2000   26.714642\n",
       "2   2001   23.370000\n",
       "3   2002   25.193280\n",
       "4   2003   21.267216\n",
       "5   2004   20.704131\n",
       "6   2005   21.792195\n",
       "7   2006   21.762874\n",
       "8   2007   20.013158\n",
       "9   2008   18.231670\n",
       "10  2009   18.254587\n",
       "11  2010   17.780706\n",
       "12  2011   17.761368\n",
       "13  2012   15.528251\n",
       "14  2013   16.684152\n",
       "15  2014   15.677409\n",
       "16  2015   14.765810\n",
       "17  2016   12.510811\n",
       "18  2017   11.799591"
      ]
     },
     "execution_count": 15,
     "metadata": {},
     "output_type": "execute_result"
    }
   ],
   "source": [
    "# Aggregate data by YEAR to get the average tobacco use rate per year\n",
    "yearly_data = yts_data.groupby('YEAR')['Data_Value'].mean().reset_index()\n",
    "yearly_data"
   ]
  },
  {
   "cell_type": "code",
   "execution_count": 16,
   "id": "be8e9e8f",
   "metadata": {},
   "outputs": [
    {
     "data": {
      "image/png": "[encoded data removed]",
      "text/plain": [
       "<Figure size 864x432 with 1 Axes>"
      ]
     },
     "metadata": {
      "needs_background": "light"
     },
     "output_type": "display_data"
    }
   ],
   "source": [
    "import matplotlib.pyplot as plt\n",
    "\n",
    "plt.figure(figsize=(12, 6))\n",
    "plt.plot(yearly_data['YEAR'], yearly_data['Data_Value'], marker='o', linestyle='-')\n",
    "plt.title('Average Youth Tobacco Use Rate Over Time')\n",
    "plt.xlabel('Year')\n",
    "plt.ylabel('Average Tobacco Use Rate (%)')\n",
    "plt.grid(True)\n",
    "plt.show()\n"
   ]
  },
  {
   "cell_type": "code",
   "execution_count": 17,
   "id": "a7d1aedb",
   "metadata": {},
   "outputs": [
    {
     "data": {
      "image/png": "[encoded data removed]",
      "text/plain": [
       "<Figure size 1008x576 with 1 Axes>"
      ]
     },
     "metadata": {
      "needs_background": "light"
     },
     "output_type": "display_data"
    }
   ],
   "source": [
    "# Exclude the national aggregate and Guam entries for state comparison\n",
    "state_comparison_data = yts_data[(yts_data['LocationDesc'] != 'National (States and DC)') & (yts_data['LocationDesc'] != 'Guam')]\n",
    "\n",
    "# Calculate the average tobacco use by state\n",
    "average_use_by_state = state_comparison_data.groupby('LocationDesc')['Data_Value'].mean().reset_index().sort_values(by='Data_Value', ascending=False)\n",
    "\n",
    "# Plot the result\n",
    "plt.figure(figsize=(14, 8))\n",
    "plt.barh(average_use_by_state['LocationDesc'], average_use_by_state['Data_Value'], color='skyblue')\n",
    "plt.title('Average Youth Tobacco Use by State', fontsize=14)\n",
    "plt.xlabel('Average Tobacco Use (%)', fontsize=12)\n",
    "plt.ylabel('State', fontsize=12)\n",
    "plt.tight_layout()\n",
    "plt.show()\n"
   ]
  },
  {
   "cell_type": "code",
   "execution_count": 18,
   "id": "19a474a6",
   "metadata": {},
   "outputs": [
    {
     "data": {
      "image/png": "[encoded data removed]",
      "text/plain": [
       "<Figure size 864x432 with 1 Axes>"
      ]
     },
     "metadata": {
      "needs_background": "light"
     },
     "output_type": "display_data"
    }
   ],
   "source": [
    "# Calculate the average use percentage for each type of tobacco product\n",
    "average_use_by_product = yts_data.groupby('TopicDesc')['Data_Value'].mean().reset_index().sort_values(by='Data_Value', ascending=False)\n",
    "\n",
    "# Plot the result\n",
    "plt.figure(figsize=(12, 6))\n",
    "plt.bar(average_use_by_product['TopicDesc'], average_use_by_product['Data_Value'], color='lightgreen')\n",
    "plt.title('Average Use of Tobacco Products by Youth', fontsize=14)\n",
    "plt.xlabel('Tobacco Product Type', fontsize=12)\n",
    "plt.ylabel('Average Use (%)', fontsize=12)\n",
    "plt.xticks(rotation=45, ha='right')\n",
    "plt.tight_layout()\n",
    "plt.show()\n"
   ]
  },
  {
   "cell_type": "code",
   "execution_count": null,
   "id": "6082d11d",
   "metadata": {},
   "outputs": [],
   "source": [
    "### Corelation analyis"
   ]
  },
  {
   "cell_type": "code",
   "execution_count": 19,
   "id": "cf0451a5",
   "metadata": {},
   "outputs": [
    {
     "data": {
      "text/plain": [
       "YEAR                    -0.197978\n",
       "Data_Value               1.000000\n",
       "Data_Value_Std_Err       0.778063\n",
       "Low_Confidence_Limit     0.993065\n",
       "High_Confidence_Limit    0.995820\n",
       "Sample_Size             -0.195556\n",
       "DisplayOrder            -0.733275\n",
       "Name: Data_Value, dtype: float64"
      ]
     },
     "execution_count": 19,
     "metadata": {},
     "output_type": "execute_result"
    }
   ],
   "source": [
    "# Checking for other numerical columns that might be relevant for correlation analysis\n",
    "numerical_columns = yts_data.select_dtypes(include=['float64', 'int64']).columns.tolist()\n",
    "\n",
    "# Display the list of numerical columns\n",
    "numerical_columns\n",
    "\n",
    "# Calculate the correlation matrix for the numerical columns\n",
    "correlation_matrix = yts_data[numerical_columns].corr()\n",
    "\n",
    "# Display the correlation matrix focusing on 'Data_Value' correlations\n",
    "correlation_matrix['Data_Value']\n"
   ]
  },
  {
   "cell_type": "code",
   "execution_count": 20,
   "id": "31c9ecc3",
   "metadata": {},
   "outputs": [
    {
     "data": {
      "image/png": "[encoded data removed]",
      "text/plain": [
       "<Figure size 720x576 with 2 Axes>"
      ]
     },
     "metadata": {
      "needs_background": "light"
     },
     "output_type": "display_data"
    }
   ],
   "source": [
    "import seaborn as sns\n",
    "\n",
    "# Set up the matplotlib figure\n",
    "plt.figure(figsize=(10, 8))\n",
    "\n",
    "# Draw the heatmap with the mask and correct aspect ratio\n",
    "sns.heatmap(correlation_matrix, annot=True, fmt=\".2f\", cmap='coolwarm', cbar_kws={\"shrink\": .5})\n",
    "\n",
    "plt.title('Correlation Matrix of Numerical Variables', fontsize=16)\n",
    "plt.xticks(rotation=45, ha='right')\n",
    "plt.yticks(rotation=0)\n",
    "plt.tight_layout()\n",
    "plt.show()\n"
   ]
  },
  {
   "cell_type": "markdown",
   "id": "c6b8333d",
   "metadata": {},
   "source": [
    "#forecasting average use of tobaccoo by years\n",
    "\n"
   ]
  },
  {
   "cell_type": "code",
   "execution_count": 40,
   "id": "7e09ee5d",
   "metadata": {},
   "outputs": [],
   "source": [
    "from statsmodels.tsa.arima.model import ARIMA"
   ]
  },
  {
   "cell_type": "code",
   "execution_count": null,
   "id": "d94087d3",
   "metadata": {},
   "outputs": [],
   "source": []
  },
  {
   "cell_type": "code",
   "execution_count": 36,
   "id": "676a718f",
   "metadata": {},
   "outputs": [
    {
     "data": {
      "text/html": [
       "<div>\n",
       "<style scoped>\n",
       "    .dataframe tbody tr th:only-of-type {\n",
       "        vertical-align: middle;\n",
       "    }\n",
       "\n",
       "    .dataframe tbody tr th {\n",
       "        vertical-align: top;\n",
       "    }\n",
       "\n",
       "    .dataframe thead th {\n",
       "        text-align: right;\n",
       "    }\n",
       "</style>\n",
       "<table border=\"1\" class=\"dataframe\">\n",
       "  <thead>\n",
       "    <tr style=\"text-align: right;\">\n",
       "      <th></th>\n",
       "      <th>YEAR</th>\n",
       "      <th>Data_Value</th>\n",
       "    </tr>\n",
       "  </thead>\n",
       "  <tbody>\n",
       "    <tr>\n",
       "      <th>0</th>\n",
       "      <td>1999</td>\n",
       "      <td>26.072849</td>\n",
       "    </tr>\n",
       "    <tr>\n",
       "      <th>1</th>\n",
       "      <td>2000</td>\n",
       "      <td>26.714642</td>\n",
       "    </tr>\n",
       "    <tr>\n",
       "      <th>2</th>\n",
       "      <td>2001</td>\n",
       "      <td>23.370000</td>\n",
       "    </tr>\n",
       "    <tr>\n",
       "      <th>3</th>\n",
       "      <td>2002</td>\n",
       "      <td>25.193280</td>\n",
       "    </tr>\n",
       "    <tr>\n",
       "      <th>4</th>\n",
       "      <td>2003</td>\n",
       "      <td>21.267216</td>\n",
       "    </tr>\n",
       "    <tr>\n",
       "      <th>5</th>\n",
       "      <td>2004</td>\n",
       "      <td>20.704131</td>\n",
       "    </tr>\n",
       "    <tr>\n",
       "      <th>6</th>\n",
       "      <td>2005</td>\n",
       "      <td>21.792195</td>\n",
       "    </tr>\n",
       "    <tr>\n",
       "      <th>7</th>\n",
       "      <td>2006</td>\n",
       "      <td>21.762874</td>\n",
       "    </tr>\n",
       "    <tr>\n",
       "      <th>8</th>\n",
       "      <td>2007</td>\n",
       "      <td>20.013158</td>\n",
       "    </tr>\n",
       "    <tr>\n",
       "      <th>9</th>\n",
       "      <td>2008</td>\n",
       "      <td>18.231670</td>\n",
       "    </tr>\n",
       "    <tr>\n",
       "      <th>10</th>\n",
       "      <td>2009</td>\n",
       "      <td>18.254587</td>\n",
       "    </tr>\n",
       "    <tr>\n",
       "      <th>11</th>\n",
       "      <td>2010</td>\n",
       "      <td>17.780706</td>\n",
       "    </tr>\n",
       "    <tr>\n",
       "      <th>12</th>\n",
       "      <td>2011</td>\n",
       "      <td>17.761368</td>\n",
       "    </tr>\n",
       "    <tr>\n",
       "      <th>13</th>\n",
       "      <td>2012</td>\n",
       "      <td>15.528251</td>\n",
       "    </tr>\n",
       "    <tr>\n",
       "      <th>14</th>\n",
       "      <td>2013</td>\n",
       "      <td>16.684152</td>\n",
       "    </tr>\n",
       "    <tr>\n",
       "      <th>15</th>\n",
       "      <td>2014</td>\n",
       "      <td>15.677409</td>\n",
       "    </tr>\n",
       "    <tr>\n",
       "      <th>16</th>\n",
       "      <td>2015</td>\n",
       "      <td>14.765810</td>\n",
       "    </tr>\n",
       "    <tr>\n",
       "      <th>17</th>\n",
       "      <td>2016</td>\n",
       "      <td>12.510811</td>\n",
       "    </tr>\n",
       "    <tr>\n",
       "      <th>18</th>\n",
       "      <td>2017</td>\n",
       "      <td>11.799591</td>\n",
       "    </tr>\n",
       "  </tbody>\n",
       "</table>\n",
       "</div>"
      ],
      "text/plain": [
       "    YEAR  Data_Value\n",
       "0   1999   26.072849\n",
       "1   2000   26.714642\n",
       "2   2001   23.370000\n",
       "3   2002   25.193280\n",
       "4   2003   21.267216\n",
       "5   2004   20.704131\n",
       "6   2005   21.792195\n",
       "7   2006   21.762874\n",
       "8   2007   20.013158\n",
       "9   2008   18.231670\n",
       "10  2009   18.254587\n",
       "11  2010   17.780706\n",
       "12  2011   17.761368\n",
       "13  2012   15.528251\n",
       "14  2013   16.684152\n",
       "15  2014   15.677409\n",
       "16  2015   14.765810\n",
       "17  2016   12.510811\n",
       "18  2017   11.799591"
      ]
     },
     "execution_count": 36,
     "metadata": {},
     "output_type": "execute_result"
    }
   ],
   "source": [
    "# Recalculate the average use of tobacco by year in case it's not defined\n",
    "average_use_by_year = yts_data.groupby('YEAR')['Data_Value'].mean().reset_index()\n",
    "average_use_by_year"
   ]
  },
  {
   "cell_type": "code",
   "execution_count": 37,
   "id": "abb1cb3f",
   "metadata": {},
   "outputs": [
    {
     "data": {
      "text/plain": [
       "(-0.7666093922896351, 0.8287341190313027)"
      ]
     },
     "execution_count": 37,
     "metadata": {},
     "output_type": "execute_result"
    }
   ],
   "source": [
    "# Perform the Augmented Dickey-Fuller test again to check stationarity\n",
    "adf_test_result= adfuller(average_use_by_year['Data_Value'])\n",
    "\n",
    "# Extract the test statistic and p-value again\n",
    "adf_statistic, p_value = adf_test_result[0], adf_test_result[1]\n",
    "\n",
    "adf_statistic, p_value\n"
   ]
  },
  {
   "cell_type": "markdown",
   "id": "346ba224",
   "metadata": {},
   "source": [
    "\n",
    "The  results from the Augmented Dickey-Fuller test, with a test statistic of approximately -0.77 and a p-value of approximately 0.83,  indicate that the time series is not stationary. The p-value remains significantly above the 0.05 threshold, suggesting that the null hypothesis of a unit root cannot be rejected. This confirms that the series likely requires differencing to make it stationary"
   ]
  },
  {
   "cell_type": "code",
   "execution_count": 38,
   "id": "53909ae3",
   "metadata": {},
   "outputs": [
    {
     "data": {
      "text/plain": [
       "(-2.257511242998052, 0.18603766041504483)"
      ]
     },
     "execution_count": 38,
     "metadata": {},
     "output_type": "execute_result"
    }
   ],
   "source": [
    "#rechecking for stationary\n",
    "# Apply a first difference to the series\n",
    "average_use_by_year['Data_Value_Diff'] = average_use_by_year['Data_Value'].diff()\n",
    "\n",
    "# Perform the Augmented Dickey-Fuller test on the differenced series\n",
    "diff_adf_test_result = adfuller(average_use_by_year['Data_Value_Diff'].dropna())  # Dropping NA values generated by differencing\n",
    "\n",
    "# Extract the test statistic and p-value for the differenced series\n",
    "diff_adf_statistic, diff_p_value = diff_adf_test_result[0], diff_adf_test_result[1]\n",
    "\n",
    "diff_adf_statistic, diff_p_value\n"
   ]
  },
  {
   "cell_type": "markdown",
   "id": "6b4ad392",
   "metadata": {},
   "source": [
    "##fitting the model"
   ]
  },
  {
   "cell_type": "code",
   "execution_count": 45,
   "id": "3c4698c0",
   "metadata": {},
   "outputs": [],
   "source": [
    "# Fitting the ARIMA(1,2,1) model based on the stationarity result and initial parameter selection\n",
    "model_arima_121 = ARIMA(average_use_by_year_redefined['Data_Value'], order=(1, 2, 1))\n",
    "model_fit_121 = model_arima_121.fit()\n",
    "\n",
    "# Forecasting the next 3 years with the ARIMA(1,2,1) model\n",
    "forecast_121 = model_fit_121.forecast(steps=3)"
   ]
  },
  {
   "cell_type": "code",
   "execution_count": 46,
   "id": "8f7191c7",
   "metadata": {},
   "outputs": [
    {
     "data": {
      "text/html": [
       "<div>\n",
       "<style scoped>\n",
       "    .dataframe tbody tr th:only-of-type {\n",
       "        vertical-align: middle;\n",
       "    }\n",
       "\n",
       "    .dataframe tbody tr th {\n",
       "        vertical-align: top;\n",
       "    }\n",
       "\n",
       "    .dataframe thead th {\n",
       "        text-align: right;\n",
       "    }\n",
       "</style>\n",
       "<table border=\"1\" class=\"dataframe\">\n",
       "  <thead>\n",
       "    <tr style=\"text-align: right;\">\n",
       "      <th></th>\n",
       "      <th>Year</th>\n",
       "      <th>Forecasted Average Tobacco Use (%)</th>\n",
       "    </tr>\n",
       "  </thead>\n",
       "  <tbody>\n",
       "    <tr>\n",
       "      <th>0</th>\n",
       "      <td>2018</td>\n",
       "      <td>10.920960</td>\n",
       "    </tr>\n",
       "    <tr>\n",
       "      <th>1</th>\n",
       "      <td>2019</td>\n",
       "      <td>10.127062</td>\n",
       "    </tr>\n",
       "    <tr>\n",
       "      <th>2</th>\n",
       "      <td>2020</td>\n",
       "      <td>9.290277</td>\n",
       "    </tr>\n",
       "  </tbody>\n",
       "</table>\n",
       "</div>"
      ],
      "text/plain": [
       "   Year  Forecasted Average Tobacco Use (%)\n",
       "0  2018                           10.920960\n",
       "1  2019                           10.127062\n",
       "2  2020                            9.290277"
      ]
     },
     "execution_count": 46,
     "metadata": {},
     "output_type": "execute_result"
    }
   ],
   "source": [
    "# Preparing forecast data for visualization\n",
    "forecast_years_121 = [2018, 2019, 2020]\n",
    "forecast_values_121 = forecast_121.values\n",
    "\n",
    "forecast_df_121 = pd.DataFrame(list(zip(forecast_years_121, forecast_values_121)), columns=['Year', 'Forecasted Average Tobacco Use (%)'])\n",
    "\n",
    "# Proceed to visualization\n",
    "forecast_df_121"
   ]
  },
  {
   "cell_type": "markdown",
   "id": "d80277db",
   "metadata": {},
   "source": [
    "visulaizing final original vs predicted chart\n"
   ]
  },
  {
   "cell_type": "code",
   "execution_count": 47,
   "id": "bed69e76",
   "metadata": {},
   "outputs": [],
   "source": [
    "#  DataFrame for forecasted values\n",
    "forecast_years = [2018, 2019, 2020]\n",
    "forecast_values = [10.920, 10.927, 9.290]  # Example forecasted values\n",
    "forecast_df = pd.DataFrame({'YEAR': forecast_years, 'Forecasted_Value': forecast_values})\n"
   ]
  },
  {
   "cell_type": "code",
   "execution_count": 48,
   "id": "94c438aa",
   "metadata": {},
   "outputs": [],
   "source": [
    "# Convert YEAR in historical data to the same format as in forecast_df for a consistent merge/join\n",
    "average_use_by_year_redefined['YEAR'] = average_use_by_year_redefined['YEAR'].astype(int)\n",
    "\n",
    "# Merge or concatenate dataframes (assuming direct continuation)\n",
    "combined_data = pd.concat([average_use_by_year_redefined[['YEAR', 'Data_Value']], forecast_df.rename(columns={'Forecasted_Value': 'Data_Value'})])\n"
   ]
  },
  {
   "cell_type": "code",
   "execution_count": 49,
   "id": "60d545ab",
   "metadata": {},
   "outputs": [
    {
     "data": {
      "image/png": "[encoded data removed]",
      "text/plain": [
       "<Figure size 720x432 with 1 Axes>"
      ]
     },
     "metadata": {
      "needs_background": "light"
     },
     "output_type": "display_data"
    }
   ],
   "source": [
    "import matplotlib.pyplot as plt\n",
    "\n",
    "plt.figure(figsize=(10, 6))\n",
    "# Plot historical data\n",
    "plt.plot(combined_data['YEAR'][:-3], combined_data['Data_Value'][:-3], label='Historical', marker='o')\n",
    "# Plot forecasted data\n",
    "plt.plot(combined_data['YEAR'][-3:], combined_data['Data_Value'][-3:], label='Forecasted', marker='x', linestyle='--')\n",
    "\n",
    "plt.title('Historical vs Forecasted Tobacco Use')\n",
    "plt.xlabel('Year')\n",
    "plt.ylabel('Average Tobacco Use (%)')\n",
    "plt.legend()\n",
    "plt.grid(True)\n",
    "plt.xticks(combined_data['YEAR'], rotation=45)\n",
    "plt.tight_layout()\n",
    "plt.show()\n"
   ]
  },
  {
   "cell_type": "code",
   "execution_count": null,
   "id": "4ef6da57",
   "metadata": {},
   "outputs": [],
   "source": []
  }
 ],
 "metadata": {
  "kernelspec": {
   "display_name": "Python 3 (ipykernel)",
   "language": "python",
   "name": "python3"
  },
  "language_info": {
   "codemirror_mode": {
    "name": "ipython",
    "version": 3
   },
   "file_extension": ".py",
   "mimetype": "text/x-python",
   "name": "python",
   "nbconvert_exporter": "python",
   "pygments_lexer": "ipython3",
   "version": "3.9.12"
  }
 },
 "nbformat": 4,
 "nbformat_minor": 5
}
